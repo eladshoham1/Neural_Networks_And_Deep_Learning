{
  "nbformat": 4,
  "nbformat_minor": 0,
  "metadata": {
    "colab": {
      "name": "EladShoham_ex3.ipynb",
      "provenance": [],
      "collapsed_sections": []
    },
    "kernelspec": {
      "name": "python3",
      "display_name": "Python 3"
    },
    "language_info": {
      "name": "python"
    },
    "accelerator": "GPU"
  },
  "cells": [
    {
      "cell_type": "markdown",
      "source": [
        "Name: Elad Shoham\n",
        "\n",
        "ID: 206001752"
      ],
      "metadata": {
        "id": "9NpnrZXiDqB5"
      }
    },
    {
      "cell_type": "markdown",
      "source": [
        "# Imports and Definitions"
      ],
      "metadata": {
        "id": "6K1i0XuHDnsG"
      }
    },
    {
      "cell_type": "code",
      "execution_count": 1,
      "metadata": {
        "id": "qGxRUWkWB9lz"
      },
      "outputs": [],
      "source": [
        "# import numpy, matplotlib, torch etc.\n",
        "import numpy as np\n",
        "import pandas as pd\n",
        "import matplotlib.pyplot as plt\n",
        "import time\n",
        "import torch\n",
        "from torch import nn\n",
        "from torchvision import datasets\n",
        "import torchvision.transforms as transforms\n",
        "from torchsummary import summary\n",
        "\n",
        "# sklearn imports\n",
        "from sklearn.metrics import accuracy_score\n",
        "from sklearn.metrics import recall_score\n",
        "from sklearn.metrics import precision_score\n",
        "from sklearn.metrics import f1_score\n",
        "from sklearn.metrics import balanced_accuracy_score"
      ]
    },
    {
      "cell_type": "code",
      "source": [
        "device = torch.device(\"cuda:0\" if torch.cuda.is_available() else \"cpu\")\n",
        "print(device)"
      ],
      "metadata": {
        "colab": {
          "base_uri": "https://localhost:8080/"
        },
        "id": "i9QebQXAB-0w",
        "outputId": "3474fa21-76bd-48ef-dd60-5accdafce967"
      },
      "execution_count": 2,
      "outputs": [
        {
          "output_type": "stream",
          "name": "stdout",
          "text": [
            "cuda:0\n"
          ]
        }
      ]
    },
    {
      "cell_type": "markdown",
      "source": [
        "# Data Exploration"
      ],
      "metadata": {
        "id": "kQ7-EEuWdIMY"
      }
    },
    {
      "cell_type": "code",
      "source": [
        "# load MNIST dataset\n",
        "image_normalize = lambda x : x / 255\n",
        "\n",
        "data_loader = torch.utils.data.DataLoader(datasets.MNIST('/files/', \n",
        "                                                          train=True, \n",
        "                                                          download=True, \n",
        "                                                          transform=transforms.Compose([transforms.ToTensor(), \n",
        "                                                          transforms.Lambda(image_normalize)])),\n",
        "                                                          shuffle=True)\n",
        "\n",
        "test_loader = torch.utils.data.DataLoader(datasets.MNIST('/files/', \n",
        "                                                          train=False, \n",
        "                                                          download=True, \n",
        "                                                          transform=transforms.Compose([transforms.ToTensor(), \n",
        "                                                          transforms.Lambda(image_normalize)])),\n",
        "                                                          batch_size=50, \n",
        "                                                          shuffle=True)"
      ],
      "metadata": {
        "id": "cXb9di2iB_6i"
      },
      "execution_count": 3,
      "outputs": []
    },
    {
      "cell_type": "markdown",
      "source": [
        "**Split Data to Train and Validation**"
      ],
      "metadata": {
        "id": "pGhCWSxFpE0W"
      }
    },
    {
      "cell_type": "code",
      "source": [
        "# split the data into 50000 train and 10000 validation\n",
        "train, validation = torch.utils.data.random_split(data_loader.dataset, [50000, 10000])\n",
        "\n",
        "train_loader = torch.utils.data.DataLoader(train, batch_size=50, shuffle=True)\n",
        "validation_loader = torch.utils.data.DataLoader(validation, batch_size=50, shuffle=False)"
      ],
      "metadata": {
        "id": "2OajsA76pEHv"
      },
      "execution_count": 4,
      "outputs": []
    },
    {
      "cell_type": "code",
      "source": [
        "data_images = data_loader.dataset.data / 255\n",
        "data_labels = data_loader.dataset.targets\n",
        "\n",
        "train_images = torch.reshape(data_images[:50000], [len(data_images[:50000]), 1, 28, 28]).cpu()\n",
        "train_labels = data_labels[:50000]\n",
        "\n",
        "validation_images = torch.reshape(data_images[10000:], [len(data_images[10000:]), 1, 28, 28]).cpu()\n",
        "validation_labels = data_labels[10000:]\n",
        "\n",
        "test_images = test_loader.dataset.data / 255\n",
        "test_images = torch.reshape(test_images, [len(test_images), 1, 28, 28]).cpu()\n",
        "test_labels = test_loader.dataset.targets"
      ],
      "metadata": {
        "id": "tO1y72AHq8Pj"
      },
      "execution_count": 5,
      "outputs": []
    },
    {
      "cell_type": "code",
      "source": [
        "# show image with title\n",
        "def print_image(image, title):\n",
        "  plt.title(title)\n",
        "  plt.imshow(image)\n",
        "  plt.show()"
      ],
      "metadata": {
        "id": "q43reaUqfQj2"
      },
      "execution_count": 6,
      "outputs": []
    },
    {
      "cell_type": "code",
      "source": [
        "# display 10 images from the train dataset\n",
        "images = 10\n",
        "\n",
        "for i in range(images):\n",
        "  print_image(train_images[i][0], 'label: ' + str(train_labels.float()[i])[-3:-2])"
      ],
      "metadata": {
        "colab": {
          "base_uri": "https://localhost:8080/",
          "height": 1000
        },
        "id": "DnfVetL8q7II",
        "outputId": "f9411edf-9085-4d34-b3ac-267f025410eb"
      },
      "execution_count": 7,
      "outputs": [
        {
          "output_type": "display_data",
          "data": {
            "image/png": "[encoded data removed]",
            "text/plain": [
              "<Figure size 432x288 with 1 Axes>"
            ]
          },
          "metadata": {
            "needs_background": "light"
          }
        },
        {
          "output_type": "display_data",
          "data": {
            "image/png": "[encoded data removed]",
            "text/plain": [
              "<Figure size 432x288 with 1 Axes>"
            ]
          },
          "metadata": {
            "needs_background": "light"
          }
        },
        {
          "output_type": "display_data",
          "data": {
            "image/png": "[encoded data removed]",
            "text/plain": [
              "<Figure size 432x288 with 1 Axes>"
            ]
          },
          "metadata": {
            "needs_background": "light"
          }
        },
        {
          "output_type": "display_data",
          "data": {
            "image/png": "[encoded data removed]",
            "text/plain": [
              "<Figure size 432x288 with 1 Axes>"
            ]
          },
          "metadata": {
            "needs_background": "light"
          }
        },
        {
          "output_type": "display_data",
          "data": {
            "image/png": "[encoded data removed]",
            "text/plain": [
              "<Figure size 432x288 with 1 Axes>"
            ]
          },
          "metadata": {
            "needs_background": "light"
          }
        },
        {
          "output_type": "display_data",
          "data": {
            "image/png": "[encoded data removed]",
            "text/plain": [
              "<Figure size 432x288 with 1 Axes>"
            ]
          },
          "metadata": {
            "needs_background": "light"
          }
        },
        {
          "output_type": "display_data",
          "data": {
            "image/png": "[encoded data removed]",
            "text/plain": [
              "<Figure size 432x288 with 1 Axes>"
            ]
          },
          "metadata": {
            "needs_background": "light"
          }
        },
        {
          "output_type": "display_data",
          "data": {
            "image/png": "[encoded data removed]",
            "text/plain": [
              "<Figure size 432x288 with 1 Axes>"
            ]
          },
          "metadata": {
            "needs_background": "light"
          }
        },
        {
          "output_type": "display_data",
          "data": {
            "image/png": "[encoded data removed]",
            "text/plain": [
              "<Figure size 432x288 with 1 Axes>"
            ]
          },
          "metadata": {
            "needs_background": "light"
          }
        },
        {
          "output_type": "display_data",
          "data": {
            "image/png": "[encoded data removed]",
            "text/plain": [
              "<Figure size 432x288 with 1 Axes>"
            ]
          },
          "metadata": {
            "needs_background": "light"
          }
        }
      ]
    },
    {
      "cell_type": "markdown",
      "source": [
        "# Functions"
      ],
      "metadata": {
        "id": "z4cUEHljpOE6"
      }
    },
    {
      "cell_type": "code",
      "source": [
        "# calculates the accuracy between the prediction and the targets\n",
        "def accuracy(y, t):\n",
        "  score, predicted = torch.max(y, 1)\n",
        "  acc = (t == predicted).sum().float() / len(t)\n",
        "  return acc"
      ],
      "metadata": {
        "id": "fsB0EtQTPusv"
      },
      "execution_count": 8,
      "outputs": []
    },
    {
      "cell_type": "code",
      "source": [
        "# predict data by model\n",
        "def predict(model, data):\n",
        "  y_softmax = model(data)\n",
        "  score, y = torch.max(y_softmax, 1)\n",
        "  return y"
      ],
      "metadata": {
        "id": "4JJmI9VI36I1"
      },
      "execution_count": 9,
      "outputs": []
    },
    {
      "cell_type": "code",
      "source": [
        "# calculate success metrics for each category\n",
        "def score(y, t):\n",
        "  targets = np.unique(data_labels)\n",
        "  acc = accuracy_score(t, y)\n",
        "  recall = recall_score(t, y, average=None, zero_division=1, labels=targets)\n",
        "  precision = precision_score(t, y, average=None, zero_division=1, labels=targets)\n",
        "  f1 = f1_score(t, y, average=None, zero_division=1, labels=targets)\n",
        "  balanced_accuracy = balanced_accuracy_score(t, y)\n",
        "  return acc, recall, precision, f1, balanced_accuracy"
      ],
      "metadata": {
        "id": "Be56TGutk0oH"
      },
      "execution_count": 10,
      "outputs": []
    },
    {
      "cell_type": "code",
      "source": [
        "# evaluating the model on the data according to the mean of the success metrics\n",
        "def evaluate(model, data):\n",
        "  accuracies = []\n",
        "  recalls = []\n",
        "  precisions = []\n",
        "  f1_scores = []\n",
        "  balanced_accuracies = []\n",
        "\n",
        "  for batch_idx, (images, labels) in enumerate(data):\n",
        "    y = predict(model, images.to(device)).cpu()\n",
        "    acc, recall, precision, f1, balanced_accuracy = score(y, labels)\n",
        "    accuracies.append(acc)\n",
        "    recalls.append(recall)\n",
        "    precisions.append(precision)\n",
        "    f1_scores.append(f1)\n",
        "    balanced_accuracies.append(balanced_accuracy)\n",
        "  return np.mean(accuracies), np.mean(recalls), np.mean(precisions), np.mean(f1_scores), np.mean(balanced_accuracies)"
      ],
      "metadata": {
        "id": "f1yRLSwCZRu7"
      },
      "execution_count": 11,
      "outputs": []
    },
    {
      "cell_type": "code",
      "source": [
        "# evaluate the model on each of the sets\n",
        "def evaluate_model(model):\n",
        "  results = {\n",
        "      'Train': evaluate(model, train_loader),\n",
        "      'Validation': evaluate(model, validation_loader),\n",
        "      'Test': evaluate(model, test_loader)\n",
        "  }\n",
        "\n",
        "  return pd.DataFrame(results, index=['Accuracy', 'Recall', 'Precision', 'F1 score', 'Balanced accuracy'])"
      ],
      "metadata": {
        "id": "jqu7KvVMUkiO"
      },
      "execution_count": 12,
      "outputs": []
    },
    {
      "cell_type": "code",
      "source": [
        "# printing weights in model\n",
        "def print_weights(model, layer, num_of_images=5):\n",
        "  weights = model[layer].weight.cpu()\n",
        "  filters = np.random.default_rng().choice(weights.shape[0], num_of_images, replace=False)\n",
        "\n",
        "  for filter in filters:\n",
        "    plt.title(f'Filter: {filter}')\n",
        "    plt.imshow(weights[filter][0].data)\n",
        "    plt.show()"
      ],
      "metadata": {
        "id": "6pyDA5FlI1rR"
      },
      "execution_count": 13,
      "outputs": []
    },
    {
      "cell_type": "code",
      "source": [
        "activation = {}\n",
        "def get_activation(name):\n",
        "    def hook(model, input, output):\n",
        "      activation[name] = output.detach()\n",
        "    return hook\n",
        "\n",
        "def image_conv(model, batch, layer, channel, after_activation=False):\n",
        "  model[layer].register_forward_hook(get_activation(layer))\n",
        "  batch = torch.reshape(batch, (len(batch), 1, 28, 28))\n",
        "  output = predict(model, batch)\n",
        "  print_image(activation[layer][channel][0].cpu(), 'After activation' if after_activation else 'Before activation')"
      ],
      "metadata": {
        "id": "kFkMMHOn4BGp"
      },
      "execution_count": 14,
      "outputs": []
    },
    {
      "cell_type": "code",
      "source": [
        "lr = 1e-3\n",
        "num_epochs = 10\n",
        "\n",
        "def train_model(model, data):\n",
        "  model.to(device)\n",
        "  optimizer = torch.optim.Adam(model.parameters(), lr=lr)\n",
        "  loss = torch.nn.CrossEntropyLoss()\n",
        "  \n",
        "  start = time.time()\n",
        "  for epoch in range(num_epochs):\n",
        "    print(f'Epoch: {epoch + 1}:')\n",
        "    for batch_idx, (images, labels) in enumerate(data):\n",
        "      images, labels = images.to(device), labels.to(device)\n",
        "\n",
        "      predictions = model(images)\n",
        "      cross_entropy = loss(predictions, labels)\n",
        "      if not (batch_idx % 100):\n",
        "        print('CE: %.6f, ACC: %.3f' % (cross_entropy.item(),  accuracy(predictions, labels).item()))\n",
        "\n",
        "      # zero gradients berfore running the backward pass\n",
        "      optimizer.zero_grad()\n",
        "\n",
        "      # backward pass to compute the gradient of loss\n",
        "      # backprop + accumulate \n",
        "      cross_entropy.backward()\n",
        "\n",
        "      # update params\n",
        "      optimizer.step()\n",
        "\n",
        "  end = time.time()\n",
        "  print('----------------------------------------------------------------')\n",
        "  print('Train time:', end - start)\n",
        "  summary(model, (1, 28, 28))"
      ],
      "metadata": {
        "id": "5YzqvED8G9Tx"
      },
      "execution_count": 15,
      "outputs": []
    },
    {
      "cell_type": "code",
      "source": [
        "def init_conv2d_weights(m):\n",
        "    if isinstance(m, nn.Conv2d):\n",
        "        nn.init.xavier_normal_(m.weight)\n",
        "        m.weight = nn.Parameter(torch.abs(m.weight))\n",
        "        m.bias.data.fill_(0.01)"
      ],
      "metadata": {
        "id": "SowNTo-hNf2H"
      },
      "execution_count": 16,
      "outputs": []
    },
    {
      "cell_type": "markdown",
      "source": [
        "# Architectures"
      ],
      "metadata": {
        "id": "xZhh0Kn17CRF"
      }
    },
    {
      "cell_type": "markdown",
      "source": [
        "**Architecture 1**"
      ],
      "metadata": {
        "id": "xn-XN3Fj7ITr"
      }
    },
    {
      "cell_type": "code",
      "source": [
        "model1 = nn.Sequential(\n",
        "    nn.Flatten(),\n",
        "    nn.Linear(in_features=28*28, out_features=10) # 28*28 = 784\n",
        ")\n",
        "\n",
        "train_model(model1, train_loader)"
      ],
      "metadata": {
        "id": "VS4dw9TA7HQu",
        "colab": {
          "base_uri": "https://localhost:8080/"
        },
        "outputId": "8f2c95b2-9334-4e2e-a35f-18e5e51dbf7d"
      },
      "execution_count": 17,
      "outputs": [
        {
          "output_type": "stream",
          "name": "stdout",
          "text": [
            "Epoch: 1:\n",
            "CE: 2.301567, ACC: 0.160\n",
            "CE: 2.287015, ACC: 0.160\n",
            "CE: 2.273319, ACC: 0.600\n",
            "CE: 2.245658, ACC: 0.540\n",
            "CE: 2.244467, ACC: 0.620\n",
            "CE: 2.228354, ACC: 0.580\n",
            "CE: 2.213638, ACC: 0.660\n",
            "CE: 2.192840, ACC: 0.740\n",
            "CE: 2.209400, ACC: 0.520\n",
            "CE: 2.189384, ACC: 0.540\n",
            "Epoch: 2:\n",
            "CE: 2.170941, ACC: 0.620\n",
            "CE: 2.144598, ACC: 0.740\n",
            "CE: 2.134669, ACC: 0.720\n",
            "CE: 2.140599, ACC: 0.680\n",
            "CE: 2.107497, ACC: 0.780\n",
            "CE: 2.101410, ACC: 0.700\n",
            "CE: 2.062056, ACC: 0.740\n",
            "CE: 2.102427, ACC: 0.660\n",
            "CE: 2.069880, ACC: 0.720\n",
            "CE: 2.069028, ACC: 0.600\n",
            "Epoch: 3:\n",
            "CE: 2.017737, ACC: 0.760\n",
            "CE: 2.044677, ACC: 0.680\n",
            "CE: 2.008433, ACC: 0.660\n",
            "CE: 2.002430, ACC: 0.660\n",
            "CE: 1.937476, ACC: 0.780\n",
            "CE: 1.993173, ACC: 0.700\n",
            "CE: 2.005291, ACC: 0.660\n",
            "CE: 1.984404, ACC: 0.740\n",
            "CE: 1.925901, ACC: 0.760\n",
            "CE: 1.910164, ACC: 0.780\n",
            "Epoch: 4:\n",
            "CE: 1.946408, ACC: 0.660\n",
            "CE: 1.936310, ACC: 0.660\n",
            "CE: 1.923212, ACC: 0.680\n",
            "CE: 1.933904, ACC: 0.660\n",
            "CE: 1.958786, ACC: 0.560\n",
            "CE: 1.877118, ACC: 0.680\n",
            "CE: 1.861126, ACC: 0.680\n",
            "CE: 1.884203, ACC: 0.720\n",
            "CE: 1.891806, ACC: 0.720\n",
            "CE: 1.817908, ACC: 0.700\n",
            "Epoch: 5:\n",
            "CE: 1.768295, ACC: 0.840\n",
            "CE: 1.707541, ACC: 0.820\n",
            "CE: 1.771467, ACC: 0.800\n",
            "CE: 1.838227, ACC: 0.640\n",
            "CE: 1.681859, ACC: 0.760\n",
            "CE: 1.792795, ACC: 0.680\n",
            "CE: 1.736570, ACC: 0.680\n",
            "CE: 1.783618, ACC: 0.660\n",
            "CE: 1.726074, ACC: 0.760\n",
            "CE: 1.687106, ACC: 0.820\n",
            "Epoch: 6:\n",
            "CE: 1.719904, ACC: 0.800\n",
            "CE: 1.611443, ACC: 0.900\n",
            "CE: 1.712392, ACC: 0.800\n",
            "CE: 1.621554, ACC: 0.840\n",
            "CE: 1.611886, ACC: 0.760\n",
            "CE: 1.625160, ACC: 0.800\n",
            "CE: 1.676471, ACC: 0.840\n",
            "CE: 1.679346, ACC: 0.760\n",
            "CE: 1.575871, ACC: 0.700\n",
            "CE: 1.658298, ACC: 0.820\n",
            "Epoch: 7:\n",
            "CE: 1.598716, ACC: 0.760\n",
            "CE: 1.540297, ACC: 0.840\n",
            "CE: 1.581083, ACC: 0.820\n",
            "CE: 1.468714, ACC: 0.820\n",
            "CE: 1.692806, ACC: 0.620\n",
            "CE: 1.577940, ACC: 0.820\n",
            "CE: 1.600834, ACC: 0.700\n",
            "CE: 1.584418, ACC: 0.820\n",
            "CE: 1.518046, ACC: 0.780\n",
            "CE: 1.570464, ACC: 0.740\n",
            "Epoch: 8:\n",
            "CE: 1.559481, ACC: 0.760\n",
            "CE: 1.559630, ACC: 0.760\n",
            "CE: 1.555170, ACC: 0.760\n",
            "CE: 1.525243, ACC: 0.800\n",
            "CE: 1.543353, ACC: 0.740\n",
            "CE: 1.478179, ACC: 0.840\n",
            "CE: 1.437103, ACC: 0.880\n",
            "CE: 1.445837, ACC: 0.820\n",
            "CE: 1.409340, ACC: 0.800\n",
            "CE: 1.510519, ACC: 0.760\n",
            "Epoch: 9:\n",
            "CE: 1.527897, ACC: 0.700\n",
            "CE: 1.430737, ACC: 0.780\n",
            "CE: 1.510889, ACC: 0.780\n",
            "CE: 1.422645, ACC: 0.840\n",
            "CE: 1.476569, ACC: 0.720\n",
            "CE: 1.499891, ACC: 0.700\n",
            "CE: 1.505584, ACC: 0.720\n",
            "CE: 1.427062, ACC: 0.760\n",
            "CE: 1.275705, ACC: 0.820\n",
            "CE: 1.394390, ACC: 0.700\n",
            "Epoch: 10:\n",
            "CE: 1.282964, ACC: 0.880\n",
            "CE: 1.395979, ACC: 0.900\n",
            "CE: 1.290267, ACC: 0.860\n",
            "CE: 1.400819, ACC: 0.760\n",
            "CE: 1.262977, ACC: 0.880\n",
            "CE: 1.445109, ACC: 0.680\n",
            "CE: 1.343509, ACC: 0.740\n",
            "CE: 1.290627, ACC: 0.840\n",
            "CE: 1.250924, ACC: 0.820\n",
            "CE: 1.351706, ACC: 0.800\n",
            "----------------------------------------------------------------\n",
            "Train time: 89.13896369934082\n",
            "----------------------------------------------------------------\n",
            "        Layer (type)               Output Shape         Param #\n",
            "================================================================\n",
            "           Flatten-1                  [-1, 784]               0\n",
            "            Linear-2                   [-1, 10]           7,850\n",
            "================================================================\n",
            "Total params: 7,850\n",
            "Trainable params: 7,850\n",
            "Non-trainable params: 0\n",
            "----------------------------------------------------------------\n",
            "Input size (MB): 0.00\n",
            "Forward/backward pass size (MB): 0.01\n",
            "Params size (MB): 0.03\n",
            "Estimated Total Size (MB): 0.04\n",
            "----------------------------------------------------------------\n"
          ]
        }
      ]
    },
    {
      "cell_type": "markdown",
      "source": [
        "**Architecture 2**"
      ],
      "metadata": {
        "id": "ljLL_6sg7JiZ"
      }
    },
    {
      "cell_type": "code",
      "source": [
        "model2 = nn.Sequential(\n",
        "    nn.Flatten(),\n",
        "    nn.Linear(in_features=28*28, out_features=200),\n",
        "    nn.ReLU(),\n",
        "    nn.Linear(in_features=200, out_features=200),\n",
        "    nn.ReLU(),\n",
        "    nn.Linear(in_features=200, out_features=10)\n",
        ")\n",
        "\n",
        "train_model(model2, train_loader)"
      ],
      "metadata": {
        "id": "pC_SCnfc7Lmr",
        "colab": {
          "base_uri": "https://localhost:8080/"
        },
        "outputId": "2ca8027d-91b0-429f-b96c-de2cd3eb32e3"
      },
      "execution_count": 18,
      "outputs": [
        {
          "output_type": "stream",
          "name": "stdout",
          "text": [
            "Epoch: 1:\n",
            "CE: 2.306344, ACC: 0.040\n",
            "CE: 2.207964, ACC: 0.380\n",
            "CE: 1.220528, ACC: 0.700\n",
            "CE: 1.037625, ACC: 0.740\n",
            "CE: 0.707263, ACC: 0.780\n",
            "CE: 0.667957, ACC: 0.820\n",
            "CE: 0.856639, ACC: 0.720\n",
            "CE: 0.645923, ACC: 0.820\n",
            "CE: 0.786005, ACC: 0.720\n",
            "CE: 0.840770, ACC: 0.740\n",
            "Epoch: 2:\n",
            "CE: 0.524805, ACC: 0.880\n",
            "CE: 0.547055, ACC: 0.820\n",
            "CE: 0.746781, ACC: 0.760\n",
            "CE: 0.739201, ACC: 0.760\n",
            "CE: 0.361564, ACC: 0.900\n",
            "CE: 0.521526, ACC: 0.800\n",
            "CE: 0.276322, ACC: 0.880\n",
            "CE: 0.590683, ACC: 0.840\n",
            "CE: 0.513736, ACC: 0.880\n",
            "CE: 0.399453, ACC: 0.820\n",
            "Epoch: 3:\n",
            "CE: 0.259919, ACC: 0.920\n",
            "CE: 0.415715, ACC: 0.900\n",
            "CE: 0.336237, ACC: 0.900\n",
            "CE: 0.275213, ACC: 0.920\n",
            "CE: 0.260564, ACC: 0.920\n",
            "CE: 0.476716, ACC: 0.860\n",
            "CE: 0.310863, ACC: 0.860\n",
            "CE: 0.477106, ACC: 0.880\n",
            "CE: 0.325713, ACC: 0.900\n",
            "CE: 0.369663, ACC: 0.900\n",
            "Epoch: 4:\n",
            "CE: 0.277686, ACC: 0.920\n",
            "CE: 0.404754, ACC: 0.880\n",
            "CE: 0.253814, ACC: 0.940\n",
            "CE: 0.395004, ACC: 0.900\n",
            "CE: 0.461050, ACC: 0.820\n",
            "CE: 0.363724, ACC: 0.900\n",
            "CE: 0.480015, ACC: 0.840\n",
            "CE: 0.299466, ACC: 0.920\n",
            "CE: 0.377384, ACC: 0.880\n",
            "CE: 0.386015, ACC: 0.880\n",
            "Epoch: 5:\n",
            "CE: 0.218634, ACC: 0.900\n",
            "CE: 0.393654, ACC: 0.860\n",
            "CE: 0.172282, ACC: 0.960\n",
            "CE: 0.352468, ACC: 0.900\n",
            "CE: 0.291885, ACC: 0.900\n",
            "CE: 0.330898, ACC: 0.920\n",
            "CE: 0.270859, ACC: 0.900\n",
            "CE: 0.185043, ACC: 0.960\n",
            "CE: 0.250542, ACC: 0.940\n",
            "CE: 0.343803, ACC: 0.940\n",
            "Epoch: 6:\n",
            "CE: 0.518578, ACC: 0.880\n",
            "CE: 0.135610, ACC: 0.940\n",
            "CE: 0.339197, ACC: 0.880\n",
            "CE: 0.276301, ACC: 0.880\n",
            "CE: 0.151948, ACC: 0.940\n",
            "CE: 0.400562, ACC: 0.900\n",
            "CE: 0.202032, ACC: 0.900\n",
            "CE: 0.272116, ACC: 0.940\n",
            "CE: 0.360521, ACC: 0.860\n",
            "CE: 0.155716, ACC: 0.920\n",
            "Epoch: 7:\n",
            "CE: 0.240468, ACC: 0.940\n",
            "CE: 0.411714, ACC: 0.900\n",
            "CE: 0.248920, ACC: 0.920\n",
            "CE: 0.299342, ACC: 0.960\n",
            "CE: 0.271046, ACC: 0.960\n",
            "CE: 0.132465, ACC: 0.980\n",
            "CE: 0.115232, ACC: 0.980\n",
            "CE: 0.391130, ACC: 0.880\n",
            "CE: 0.118022, ACC: 0.940\n",
            "CE: 0.112153, ACC: 0.980\n",
            "Epoch: 8:\n",
            "CE: 0.324168, ACC: 0.900\n",
            "CE: 0.188442, ACC: 0.940\n",
            "CE: 0.150906, ACC: 0.960\n",
            "CE: 0.147595, ACC: 0.960\n",
            "CE: 0.390059, ACC: 0.860\n",
            "CE: 0.402197, ACC: 0.900\n",
            "CE: 0.110444, ACC: 0.960\n",
            "CE: 0.138003, ACC: 0.960\n",
            "CE: 0.313424, ACC: 0.880\n",
            "CE: 0.289516, ACC: 0.900\n",
            "Epoch: 9:\n",
            "CE: 0.148172, ACC: 0.920\n",
            "CE: 0.143488, ACC: 0.960\n",
            "CE: 0.257126, ACC: 0.920\n",
            "CE: 0.314445, ACC: 0.920\n",
            "CE: 0.384728, ACC: 0.900\n",
            "CE: 0.131288, ACC: 0.980\n",
            "CE: 0.342604, ACC: 0.900\n",
            "CE: 0.256732, ACC: 0.920\n",
            "CE: 0.162031, ACC: 0.940\n",
            "CE: 0.266128, ACC: 0.900\n",
            "Epoch: 10:\n",
            "CE: 0.209059, ACC: 0.980\n",
            "CE: 0.319284, ACC: 0.940\n",
            "CE: 0.119715, ACC: 0.960\n",
            "CE: 0.198510, ACC: 0.960\n",
            "CE: 0.095889, ACC: 0.980\n",
            "CE: 0.252218, ACC: 0.900\n",
            "CE: 0.154304, ACC: 0.960\n",
            "CE: 0.175302, ACC: 0.960\n",
            "CE: 0.195485, ACC: 0.960\n",
            "CE: 0.099140, ACC: 0.980\n",
            "----------------------------------------------------------------\n",
            "Train time: 101.20684719085693\n",
            "----------------------------------------------------------------\n",
            "        Layer (type)               Output Shape         Param #\n",
            "================================================================\n",
            "           Flatten-1                  [-1, 784]               0\n",
            "            Linear-2                  [-1, 200]         157,000\n",
            "              ReLU-3                  [-1, 200]               0\n",
            "            Linear-4                  [-1, 200]          40,200\n",
            "              ReLU-5                  [-1, 200]               0\n",
            "            Linear-6                   [-1, 10]           2,010\n",
            "================================================================\n",
            "Total params: 199,210\n",
            "Trainable params: 199,210\n",
            "Non-trainable params: 0\n",
            "----------------------------------------------------------------\n",
            "Input size (MB): 0.00\n",
            "Forward/backward pass size (MB): 0.01\n",
            "Params size (MB): 0.76\n",
            "Estimated Total Size (MB): 0.78\n",
            "----------------------------------------------------------------\n"
          ]
        }
      ]
    },
    {
      "cell_type": "markdown",
      "source": [
        "**Architecture 3**"
      ],
      "metadata": {
        "id": "mk1cEh4i7K1v"
      }
    },
    {
      "cell_type": "code",
      "source": [
        "model3 = nn.Sequential(\n",
        "    nn.Conv2d(in_channels=1, out_channels=32, kernel_size=(5,5), stride=(1,1), padding='same'),\n",
        "    nn.ReLU(),\n",
        "    nn.MaxPool2d(kernel_size=(2,2), stride=(2,2)),\n",
        "    nn.Flatten(),\n",
        "    nn.Linear(in_features=64*7*7*2, out_features=1024),\n",
        "    nn.ReLU(),    \n",
        "    nn.Linear(in_features=1024, out_features=10)\n",
        "  )\n",
        "\n",
        "model3.apply(init_conv2d_weights)\n",
        "train_model(model3, train_loader)"
      ],
      "metadata": {
        "id": "4hhc9Sv_CCF7",
        "colab": {
          "base_uri": "https://localhost:8080/"
        },
        "outputId": "589a10e4-203a-492f-80e0-8cd0fbeb0faa"
      },
      "execution_count": 19,
      "outputs": [
        {
          "output_type": "stream",
          "name": "stdout",
          "text": [
            "Epoch: 1:\n",
            "CE: 2.298264, ACC: 0.180\n",
            "CE: 1.517911, ACC: 0.660\n",
            "CE: 0.798179, ACC: 0.720\n",
            "CE: 0.538792, ACC: 0.780\n",
            "CE: 0.602910, ACC: 0.860\n",
            "CE: 0.689505, ACC: 0.720\n",
            "CE: 0.288474, ACC: 0.880\n",
            "CE: 0.505038, ACC: 0.840\n",
            "CE: 0.326115, ACC: 0.900\n",
            "CE: 0.285607, ACC: 0.880\n",
            "Epoch: 2:\n",
            "CE: 0.309382, ACC: 0.900\n",
            "CE: 0.189652, ACC: 0.940\n",
            "CE: 0.169129, ACC: 0.940\n",
            "CE: 0.071711, ACC: 1.000\n",
            "CE: 0.302075, ACC: 0.900\n",
            "CE: 0.103648, ACC: 0.980\n",
            "CE: 0.237977, ACC: 0.900\n",
            "CE: 0.301392, ACC: 0.920\n",
            "CE: 0.197721, ACC: 0.920\n",
            "CE: 0.149416, ACC: 0.960\n",
            "Epoch: 3:\n",
            "CE: 0.258979, ACC: 0.940\n",
            "CE: 0.349600, ACC: 0.920\n",
            "CE: 0.257791, ACC: 0.920\n",
            "CE: 0.280832, ACC: 0.920\n",
            "CE: 0.167981, ACC: 0.960\n",
            "CE: 0.114192, ACC: 0.960\n",
            "CE: 0.186933, ACC: 0.940\n",
            "CE: 0.109387, ACC: 0.940\n",
            "CE: 0.177647, ACC: 0.960\n",
            "CE: 0.164237, ACC: 0.940\n",
            "Epoch: 4:\n",
            "CE: 0.182523, ACC: 0.940\n",
            "CE: 0.055631, ACC: 1.000\n",
            "CE: 0.199061, ACC: 0.940\n",
            "CE: 0.229863, ACC: 0.960\n",
            "CE: 0.172823, ACC: 0.960\n",
            "CE: 0.051022, ACC: 0.980\n",
            "CE: 0.158790, ACC: 0.940\n",
            "CE: 0.224260, ACC: 0.960\n",
            "CE: 0.169609, ACC: 0.940\n",
            "CE: 0.261831, ACC: 0.940\n",
            "Epoch: 5:\n",
            "CE: 0.116154, ACC: 0.980\n",
            "CE: 0.046646, ACC: 1.000\n",
            "CE: 0.207345, ACC: 0.900\n",
            "CE: 0.113791, ACC: 0.980\n",
            "CE: 0.060657, ACC: 0.980\n",
            "CE: 0.261509, ACC: 0.920\n",
            "CE: 0.060430, ACC: 0.980\n",
            "CE: 0.137454, ACC: 0.980\n",
            "CE: 0.090236, ACC: 0.960\n",
            "CE: 0.242871, ACC: 0.940\n",
            "Epoch: 6:\n",
            "CE: 0.093684, ACC: 0.960\n",
            "CE: 0.016171, ACC: 1.000\n",
            "CE: 0.147989, ACC: 0.960\n",
            "CE: 0.181107, ACC: 0.960\n",
            "CE: 0.123297, ACC: 0.980\n",
            "CE: 0.085901, ACC: 0.980\n",
            "CE: 0.123656, ACC: 0.940\n",
            "CE: 0.135638, ACC: 0.960\n",
            "CE: 0.179940, ACC: 0.940\n",
            "CE: 0.019289, ACC: 1.000\n",
            "Epoch: 7:\n",
            "CE: 0.033776, ACC: 1.000\n",
            "CE: 0.242725, ACC: 0.940\n",
            "CE: 0.053306, ACC: 0.980\n",
            "CE: 0.037545, ACC: 1.000\n",
            "CE: 0.122607, ACC: 0.980\n",
            "CE: 0.025873, ACC: 1.000\n",
            "CE: 0.119774, ACC: 0.980\n",
            "CE: 0.156411, ACC: 0.960\n",
            "CE: 0.111038, ACC: 0.960\n",
            "CE: 0.022240, ACC: 1.000\n",
            "Epoch: 8:\n",
            "CE: 0.017361, ACC: 1.000\n",
            "CE: 0.303260, ACC: 0.900\n",
            "CE: 0.163987, ACC: 0.920\n",
            "CE: 0.069713, ACC: 0.980\n",
            "CE: 0.108020, ACC: 0.960\n",
            "CE: 0.037784, ACC: 0.980\n",
            "CE: 0.036304, ACC: 1.000\n",
            "CE: 0.077948, ACC: 0.980\n",
            "CE: 0.020984, ACC: 1.000\n",
            "CE: 0.108270, ACC: 0.960\n",
            "Epoch: 9:\n",
            "CE: 0.063068, ACC: 0.980\n",
            "CE: 0.104924, ACC: 0.960\n",
            "CE: 0.047135, ACC: 0.960\n",
            "CE: 0.017585, ACC: 1.000\n",
            "CE: 0.079731, ACC: 0.980\n",
            "CE: 0.008264, ACC: 1.000\n",
            "CE: 0.077039, ACC: 0.960\n",
            "CE: 0.042718, ACC: 0.980\n",
            "CE: 0.010410, ACC: 1.000\n",
            "CE: 0.041360, ACC: 0.980\n",
            "Epoch: 10:\n",
            "CE: 0.103792, ACC: 0.940\n",
            "CE: 0.115651, ACC: 0.940\n",
            "CE: 0.078413, ACC: 0.960\n",
            "CE: 0.019223, ACC: 1.000\n",
            "CE: 0.087528, ACC: 0.980\n",
            "CE: 0.098536, ACC: 0.940\n",
            "CE: 0.046227, ACC: 0.980\n",
            "CE: 0.048638, ACC: 0.980\n",
            "CE: 0.091101, ACC: 0.960\n",
            "CE: 0.111848, ACC: 0.960\n",
            "----------------------------------------------------------------\n",
            "Train time: 110.56796503067017\n",
            "----------------------------------------------------------------\n",
            "        Layer (type)               Output Shape         Param #\n",
            "================================================================\n",
            "            Conv2d-1           [-1, 32, 28, 28]             832\n",
            "              ReLU-2           [-1, 32, 28, 28]               0\n",
            "         MaxPool2d-3           [-1, 32, 14, 14]               0\n",
            "           Flatten-4                 [-1, 6272]               0\n",
            "            Linear-5                 [-1, 1024]       6,423,552\n",
            "              ReLU-6                 [-1, 1024]               0\n",
            "            Linear-7                   [-1, 10]          10,250\n",
            "================================================================\n",
            "Total params: 6,434,634\n",
            "Trainable params: 6,434,634\n",
            "Non-trainable params: 0\n",
            "----------------------------------------------------------------\n",
            "Input size (MB): 0.00\n",
            "Forward/backward pass size (MB): 0.49\n",
            "Params size (MB): 24.55\n",
            "Estimated Total Size (MB): 25.04\n",
            "----------------------------------------------------------------\n"
          ]
        }
      ]
    },
    {
      "cell_type": "markdown",
      "source": [
        "**Architecture 4**"
      ],
      "metadata": {
        "id": "y-Ge6GrB7O9M"
      }
    },
    {
      "cell_type": "code",
      "source": [
        "model4 = nn.Sequential(\n",
        "    nn.Conv2d(in_channels=1, out_channels=32, kernel_size=(5,5), stride=(1,1), padding='same'),\n",
        "    nn.ReLU(),\n",
        "    nn.MaxPool2d(kernel_size=(2,2), stride=(2,2)),\n",
        "    nn.Conv2d(in_channels=32, out_channels=64, kernel_size=(5,5), stride=(1,1), padding='same'),\n",
        "    nn.ReLU(),\n",
        "    nn.MaxPool2d(kernel_size=(2,2), stride=(2,2)),\n",
        "    nn.Flatten(),\n",
        "    nn.Linear(in_features=64*7*7, out_features=1024),\n",
        "    nn.ReLU(),    \n",
        "    nn.Linear(in_features=1024, out_features=10)\n",
        "  )\n",
        "\n",
        "model4.apply(init_conv2d_weights)\n",
        "train_model(model4, train_loader)"
      ],
      "metadata": {
        "id": "2VRi96iR7PrN",
        "colab": {
          "base_uri": "https://localhost:8080/"
        },
        "outputId": "c3b8109c-e55d-4135-c9ab-ca1677e28807"
      },
      "execution_count": 20,
      "outputs": [
        {
          "output_type": "stream",
          "name": "stdout",
          "text": [
            "Epoch: 1:\n",
            "CE: 2.305370, ACC: 0.040\n",
            "CE: 1.430034, ACC: 0.620\n",
            "CE: 0.735415, ACC: 0.760\n",
            "CE: 0.448766, ACC: 0.880\n",
            "CE: 0.299126, ACC: 0.840\n",
            "CE: 0.507082, ACC: 0.860\n",
            "CE: 0.422678, ACC: 0.880\n",
            "CE: 0.535212, ACC: 0.820\n",
            "CE: 0.233604, ACC: 0.960\n",
            "CE: 0.304584, ACC: 0.880\n",
            "Epoch: 2:\n",
            "CE: 0.454705, ACC: 0.920\n",
            "CE: 0.253400, ACC: 0.900\n",
            "CE: 0.090569, ACC: 0.960\n",
            "CE: 0.136441, ACC: 0.960\n",
            "CE: 0.394863, ACC: 0.880\n",
            "CE: 0.114988, ACC: 0.960\n",
            "CE: 0.219509, ACC: 0.940\n",
            "CE: 0.121572, ACC: 0.960\n",
            "CE: 0.094248, ACC: 0.960\n",
            "CE: 0.163352, ACC: 0.920\n",
            "Epoch: 3:\n",
            "CE: 0.107211, ACC: 0.980\n",
            "CE: 0.023860, ACC: 1.000\n",
            "CE: 0.186388, ACC: 0.980\n",
            "CE: 0.100990, ACC: 0.960\n",
            "CE: 0.128070, ACC: 0.940\n",
            "CE: 0.028246, ACC: 1.000\n",
            "CE: 0.053968, ACC: 0.980\n",
            "CE: 0.067212, ACC: 0.980\n",
            "CE: 0.189594, ACC: 0.880\n",
            "CE: 0.016483, ACC: 1.000\n",
            "Epoch: 4:\n",
            "CE: 0.095541, ACC: 0.980\n",
            "CE: 0.110174, ACC: 0.980\n",
            "CE: 0.120308, ACC: 0.940\n",
            "CE: 0.182881, ACC: 0.900\n",
            "CE: 0.010236, ACC: 1.000\n",
            "CE: 0.029223, ACC: 0.980\n",
            "CE: 0.053098, ACC: 0.980\n",
            "CE: 0.037486, ACC: 0.980\n",
            "CE: 0.085425, ACC: 0.960\n",
            "CE: 0.077170, ACC: 0.960\n",
            "Epoch: 5:\n",
            "CE: 0.008912, ACC: 1.000\n",
            "CE: 0.006434, ACC: 1.000\n",
            "CE: 0.028640, ACC: 1.000\n",
            "CE: 0.200469, ACC: 0.900\n",
            "CE: 0.126075, ACC: 0.940\n",
            "CE: 0.012609, ACC: 1.000\n",
            "CE: 0.010775, ACC: 1.000\n",
            "CE: 0.057079, ACC: 0.960\n",
            "CE: 0.068436, ACC: 0.960\n",
            "CE: 0.007849, ACC: 1.000\n",
            "Epoch: 6:\n",
            "CE: 0.035772, ACC: 0.980\n",
            "CE: 0.108596, ACC: 0.960\n",
            "CE: 0.016274, ACC: 1.000\n",
            "CE: 0.018104, ACC: 1.000\n",
            "CE: 0.076751, ACC: 0.980\n",
            "CE: 0.045959, ACC: 0.980\n",
            "CE: 0.102004, ACC: 0.980\n",
            "CE: 0.117029, ACC: 0.980\n",
            "CE: 0.007744, ACC: 1.000\n",
            "CE: 0.033660, ACC: 1.000\n",
            "Epoch: 7:\n",
            "CE: 0.084401, ACC: 0.980\n",
            "CE: 0.011893, ACC: 1.000\n",
            "CE: 0.019387, ACC: 0.980\n",
            "CE: 0.020117, ACC: 0.980\n",
            "CE: 0.005017, ACC: 1.000\n",
            "CE: 0.080707, ACC: 0.980\n",
            "CE: 0.042920, ACC: 1.000\n",
            "CE: 0.036350, ACC: 1.000\n",
            "CE: 0.054218, ACC: 0.980\n",
            "CE: 0.081299, ACC: 0.980\n",
            "Epoch: 8:\n",
            "CE: 0.039481, ACC: 1.000\n",
            "CE: 0.022435, ACC: 1.000\n",
            "CE: 0.028108, ACC: 1.000\n",
            "CE: 0.012527, ACC: 1.000\n",
            "CE: 0.006201, ACC: 1.000\n",
            "CE: 0.030892, ACC: 0.980\n",
            "CE: 0.025323, ACC: 1.000\n",
            "CE: 0.010867, ACC: 1.000\n",
            "CE: 0.054750, ACC: 0.980\n",
            "CE: 0.028152, ACC: 1.000\n",
            "Epoch: 9:\n",
            "CE: 0.043421, ACC: 1.000\n",
            "CE: 0.023623, ACC: 0.980\n",
            "CE: 0.036418, ACC: 0.980\n",
            "CE: 0.003440, ACC: 1.000\n",
            "CE: 0.014470, ACC: 1.000\n",
            "CE: 0.164374, ACC: 0.940\n",
            "CE: 0.008233, ACC: 1.000\n",
            "CE: 0.006398, ACC: 1.000\n",
            "CE: 0.034969, ACC: 0.980\n",
            "CE: 0.003414, ACC: 1.000\n",
            "Epoch: 10:\n",
            "CE: 0.006047, ACC: 1.000\n",
            "CE: 0.002368, ACC: 1.000\n",
            "CE: 0.006477, ACC: 1.000\n",
            "CE: 0.053918, ACC: 0.980\n",
            "CE: 0.014973, ACC: 1.000\n",
            "CE: 0.050246, ACC: 0.980\n",
            "CE: 0.014740, ACC: 1.000\n",
            "CE: 0.021175, ACC: 0.980\n",
            "CE: 0.044173, ACC: 0.980\n",
            "CE: 0.013601, ACC: 1.000\n",
            "----------------------------------------------------------------\n",
            "Train time: 116.21231579780579\n",
            "----------------------------------------------------------------\n",
            "        Layer (type)               Output Shape         Param #\n",
            "================================================================\n",
            "            Conv2d-1           [-1, 32, 28, 28]             832\n",
            "              ReLU-2           [-1, 32, 28, 28]               0\n",
            "         MaxPool2d-3           [-1, 32, 14, 14]               0\n",
            "            Conv2d-4           [-1, 64, 14, 14]          51,264\n",
            "              ReLU-5           [-1, 64, 14, 14]               0\n",
            "         MaxPool2d-6             [-1, 64, 7, 7]               0\n",
            "           Flatten-7                 [-1, 3136]               0\n",
            "            Linear-8                 [-1, 1024]       3,212,288\n",
            "              ReLU-9                 [-1, 1024]               0\n",
            "           Linear-10                   [-1, 10]          10,250\n",
            "================================================================\n",
            "Total params: 3,274,634\n",
            "Trainable params: 3,274,634\n",
            "Non-trainable params: 0\n",
            "----------------------------------------------------------------\n",
            "Input size (MB): 0.00\n",
            "Forward/backward pass size (MB): 0.69\n",
            "Params size (MB): 12.49\n",
            "Estimated Total Size (MB): 13.18\n",
            "----------------------------------------------------------------\n"
          ]
        }
      ]
    },
    {
      "cell_type": "markdown",
      "source": [
        "**Architecture 5 (batch_size=50)**"
      ],
      "metadata": {
        "id": "tAxfs09N7Rlj"
      }
    },
    {
      "cell_type": "code",
      "source": [
        "dropout_rate = 0.5\n",
        "model5 = nn.Sequential(\n",
        "    nn.Conv2d(in_channels=1, out_channels=32, kernel_size=(5,5), stride=(1,1), padding='same'),\n",
        "    nn.ReLU(),\n",
        "    nn.MaxPool2d(kernel_size=(2,2), stride=(2,2)),\n",
        "    nn.Conv2d(in_channels=32, out_channels=64, kernel_size=(5,5), stride=(1,1), padding='same'),\n",
        "    nn.ReLU(),\n",
        "    nn.MaxPool2d(kernel_size=(2,2), stride=(2,2)),\n",
        "    nn.Flatten(),\n",
        "    nn.Dropout(p=dropout_rate),\n",
        "    nn.Linear(in_features=64*7*7, out_features=1024),\n",
        "    nn.ReLU(),    \n",
        "    nn.Linear(in_features=1024, out_features=10)\n",
        "  )\n",
        "\n",
        "model5.apply(init_conv2d_weights)\n",
        "train_model(model5, train_loader)"
      ],
      "metadata": {
        "id": "edP8GGH67QPb",
        "colab": {
          "base_uri": "https://localhost:8080/"
        },
        "outputId": "ee2ba95f-c7f0-4a6b-ad1c-9aa0ac4d18ae"
      },
      "execution_count": 21,
      "outputs": [
        {
          "output_type": "stream",
          "name": "stdout",
          "text": [
            "Epoch: 1:\n",
            "CE: 2.299979, ACC: 0.100\n",
            "CE: 1.867663, ACC: 0.520\n",
            "CE: 0.967789, ACC: 0.720\n",
            "CE: 0.562664, ACC: 0.800\n",
            "CE: 0.457442, ACC: 0.900\n",
            "CE: 0.440737, ACC: 0.860\n",
            "CE: 0.297802, ACC: 0.880\n",
            "CE: 0.493349, ACC: 0.880\n",
            "CE: 0.413713, ACC: 0.880\n",
            "CE: 0.316653, ACC: 0.900\n",
            "Epoch: 2:\n",
            "CE: 0.237688, ACC: 0.860\n",
            "CE: 0.191726, ACC: 0.960\n",
            "CE: 0.257994, ACC: 0.900\n",
            "CE: 0.128836, ACC: 0.960\n",
            "CE: 0.108642, ACC: 0.960\n",
            "CE: 0.288480, ACC: 0.900\n",
            "CE: 0.137236, ACC: 0.960\n",
            "CE: 0.101770, ACC: 0.980\n",
            "CE: 0.170134, ACC: 0.900\n",
            "CE: 0.128940, ACC: 0.960\n",
            "Epoch: 3:\n",
            "CE: 0.184937, ACC: 0.900\n",
            "CE: 0.123646, ACC: 0.960\n",
            "CE: 0.084679, ACC: 0.960\n",
            "CE: 0.106808, ACC: 0.980\n",
            "CE: 0.141648, ACC: 0.980\n",
            "CE: 0.105044, ACC: 0.960\n",
            "CE: 0.158201, ACC: 0.960\n",
            "CE: 0.117584, ACC: 0.940\n",
            "CE: 0.236681, ACC: 0.940\n",
            "CE: 0.121915, ACC: 0.960\n",
            "Epoch: 4:\n",
            "CE: 0.043557, ACC: 0.980\n",
            "CE: 0.074788, ACC: 0.980\n",
            "CE: 0.057101, ACC: 1.000\n",
            "CE: 0.051346, ACC: 1.000\n",
            "CE: 0.049214, ACC: 0.980\n",
            "CE: 0.053831, ACC: 0.980\n",
            "CE: 0.205049, ACC: 0.980\n",
            "CE: 0.074306, ACC: 0.980\n",
            "CE: 0.328793, ACC: 0.940\n",
            "CE: 0.056596, ACC: 0.980\n",
            "Epoch: 5:\n",
            "CE: 0.074815, ACC: 0.960\n",
            "CE: 0.029263, ACC: 0.980\n",
            "CE: 0.054139, ACC: 1.000\n",
            "CE: 0.024720, ACC: 1.000\n",
            "CE: 0.010509, ACC: 1.000\n",
            "CE: 0.113333, ACC: 0.980\n",
            "CE: 0.080420, ACC: 0.980\n",
            "CE: 0.022139, ACC: 1.000\n",
            "CE: 0.181484, ACC: 0.960\n",
            "CE: 0.030790, ACC: 1.000\n",
            "Epoch: 6:\n",
            "CE: 0.019660, ACC: 1.000\n",
            "CE: 0.010862, ACC: 1.000\n",
            "CE: 0.122450, ACC: 0.980\n",
            "CE: 0.100066, ACC: 0.940\n",
            "CE: 0.021122, ACC: 1.000\n",
            "CE: 0.014380, ACC: 1.000\n",
            "CE: 0.056253, ACC: 0.960\n",
            "CE: 0.184633, ACC: 0.960\n",
            "CE: 0.175184, ACC: 0.960\n",
            "CE: 0.023661, ACC: 1.000\n",
            "Epoch: 7:\n",
            "CE: 0.013626, ACC: 1.000\n",
            "CE: 0.089856, ACC: 0.960\n",
            "CE: 0.060672, ACC: 0.980\n",
            "CE: 0.076962, ACC: 0.980\n",
            "CE: 0.024914, ACC: 1.000\n",
            "CE: 0.038637, ACC: 1.000\n",
            "CE: 0.112795, ACC: 0.980\n",
            "CE: 0.065061, ACC: 0.960\n",
            "CE: 0.111378, ACC: 0.940\n",
            "CE: 0.029120, ACC: 1.000\n",
            "Epoch: 8:\n",
            "CE: 0.025192, ACC: 0.980\n",
            "CE: 0.015834, ACC: 1.000\n",
            "CE: 0.008560, ACC: 1.000\n",
            "CE: 0.009815, ACC: 1.000\n",
            "CE: 0.028879, ACC: 0.980\n",
            "CE: 0.005269, ACC: 1.000\n",
            "CE: 0.143903, ACC: 0.920\n",
            "CE: 0.004535, ACC: 1.000\n",
            "CE: 0.046446, ACC: 1.000\n",
            "CE: 0.003911, ACC: 1.000\n",
            "Epoch: 9:\n",
            "CE: 0.179610, ACC: 0.960\n",
            "CE: 0.059893, ACC: 0.980\n",
            "CE: 0.141650, ACC: 0.960\n",
            "CE: 0.011113, ACC: 1.000\n",
            "CE: 0.025106, ACC: 0.980\n",
            "CE: 0.043172, ACC: 0.980\n",
            "CE: 0.230918, ACC: 0.940\n",
            "CE: 0.001902, ACC: 1.000\n",
            "CE: 0.189968, ACC: 0.960\n",
            "CE: 0.020530, ACC: 1.000\n",
            "Epoch: 10:\n",
            "CE: 0.067497, ACC: 0.960\n",
            "CE: 0.004912, ACC: 1.000\n",
            "CE: 0.059636, ACC: 0.980\n",
            "CE: 0.018733, ACC: 1.000\n",
            "CE: 0.012133, ACC: 1.000\n",
            "CE: 0.008073, ACC: 1.000\n",
            "CE: 0.005147, ACC: 1.000\n",
            "CE: 0.006113, ACC: 1.000\n",
            "CE: 0.136256, ACC: 0.940\n",
            "CE: 0.031855, ACC: 0.980\n",
            "----------------------------------------------------------------\n",
            "Train time: 121.01816201210022\n",
            "----------------------------------------------------------------\n",
            "        Layer (type)               Output Shape         Param #\n",
            "================================================================\n",
            "            Conv2d-1           [-1, 32, 28, 28]             832\n",
            "              ReLU-2           [-1, 32, 28, 28]               0\n",
            "         MaxPool2d-3           [-1, 32, 14, 14]               0\n",
            "            Conv2d-4           [-1, 64, 14, 14]          51,264\n",
            "              ReLU-5           [-1, 64, 14, 14]               0\n",
            "         MaxPool2d-6             [-1, 64, 7, 7]               0\n",
            "           Flatten-7                 [-1, 3136]               0\n",
            "           Dropout-8                 [-1, 3136]               0\n",
            "            Linear-9                 [-1, 1024]       3,212,288\n",
            "             ReLU-10                 [-1, 1024]               0\n",
            "           Linear-11                   [-1, 10]          10,250\n",
            "================================================================\n",
            "Total params: 3,274,634\n",
            "Trainable params: 3,274,634\n",
            "Non-trainable params: 0\n",
            "----------------------------------------------------------------\n",
            "Input size (MB): 0.00\n",
            "Forward/backward pass size (MB): 0.71\n",
            "Params size (MB): 12.49\n",
            "Estimated Total Size (MB): 13.20\n",
            "----------------------------------------------------------------\n"
          ]
        }
      ]
    },
    {
      "cell_type": "markdown",
      "source": [
        "**Architecture 5 (batch_size=100)**"
      ],
      "metadata": {
        "id": "7gYbu287qbkF"
      }
    },
    {
      "cell_type": "code",
      "source": [
        "# set train data to batch_size = 100\n",
        "train_loader_100 = torch.utils.data.DataLoader(train, batch_size=100, shuffle=True)"
      ],
      "metadata": {
        "id": "v8yrnnAPjfCi"
      },
      "execution_count": 22,
      "outputs": []
    },
    {
      "cell_type": "code",
      "source": [
        "dropout_rate = 0.5\n",
        "model5_a = nn.Sequential(\n",
        "    nn.Conv2d(in_channels=1, out_channels=32, kernel_size=(5,5), stride=(1,1), padding='same'),\n",
        "    nn.ReLU(),\n",
        "    nn.MaxPool2d(kernel_size=(2,2), stride=(2,2)),\n",
        "    nn.Conv2d(in_channels=32, out_channels=64, kernel_size=(5,5), stride=(1,1), padding='same'),\n",
        "    nn.ReLU(),\n",
        "    nn.MaxPool2d(kernel_size=(2,2), stride=(2,2)),\n",
        "    nn.Flatten(),\n",
        "    nn.Dropout(p=dropout_rate),\n",
        "    nn.Linear(in_features=64*7*7, out_features=1024),\n",
        "    nn.ReLU(),    \n",
        "    nn.Linear(in_features=1024, out_features=10)\n",
        "  )\n",
        "\n",
        "model5_a.apply(init_conv2d_weights)\n",
        "train_model(model5_a, train_loader_100)"
      ],
      "metadata": {
        "id": "smqcrbI1URIz",
        "colab": {
          "base_uri": "https://localhost:8080/"
        },
        "outputId": "eeba10fd-6e6d-4b09-9d4d-b235296161a5"
      },
      "execution_count": 23,
      "outputs": [
        {
          "output_type": "stream",
          "name": "stdout",
          "text": [
            "Epoch: 1:\n",
            "CE: 2.301015, ACC: 0.110\n",
            "CE: 2.008911, ACC: 0.400\n",
            "CE: 0.618600, ACC: 0.780\n",
            "CE: 0.610082, ACC: 0.820\n",
            "CE: 0.474160, ACC: 0.870\n",
            "Epoch: 2:\n",
            "CE: 0.354602, ACC: 0.870\n",
            "CE: 0.376928, ACC: 0.870\n",
            "CE: 0.188809, ACC: 0.930\n",
            "CE: 0.324046, ACC: 0.900\n",
            "CE: 0.170637, ACC: 0.940\n",
            "Epoch: 3:\n",
            "CE: 0.123609, ACC: 0.960\n",
            "CE: 0.184714, ACC: 0.960\n",
            "CE: 0.194864, ACC: 0.960\n",
            "CE: 0.151471, ACC: 0.960\n",
            "CE: 0.129583, ACC: 0.960\n",
            "Epoch: 4:\n",
            "CE: 0.140680, ACC: 0.940\n",
            "CE: 0.164268, ACC: 0.960\n",
            "CE: 0.082895, ACC: 0.970\n",
            "CE: 0.045072, ACC: 0.990\n",
            "CE: 0.108565, ACC: 0.950\n",
            "Epoch: 5:\n",
            "CE: 0.077027, ACC: 0.980\n",
            "CE: 0.083645, ACC: 0.960\n",
            "CE: 0.118210, ACC: 0.990\n",
            "CE: 0.050836, ACC: 0.990\n",
            "CE: 0.088927, ACC: 0.960\n",
            "Epoch: 6:\n",
            "CE: 0.121198, ACC: 0.960\n",
            "CE: 0.061459, ACC: 0.990\n",
            "CE: 0.165863, ACC: 0.920\n",
            "CE: 0.128423, ACC: 0.960\n",
            "CE: 0.034599, ACC: 0.990\n",
            "Epoch: 7:\n",
            "CE: 0.148651, ACC: 0.950\n",
            "CE: 0.048442, ACC: 0.980\n",
            "CE: 0.062252, ACC: 0.980\n",
            "CE: 0.065674, ACC: 0.980\n",
            "CE: 0.116197, ACC: 0.980\n",
            "Epoch: 8:\n",
            "CE: 0.108222, ACC: 0.980\n",
            "CE: 0.037613, ACC: 1.000\n",
            "CE: 0.126873, ACC: 0.960\n",
            "CE: 0.012801, ACC: 1.000\n",
            "CE: 0.120681, ACC: 0.970\n",
            "Epoch: 9:\n",
            "CE: 0.021846, ACC: 0.990\n",
            "CE: 0.075508, ACC: 0.950\n",
            "CE: 0.118913, ACC: 0.950\n",
            "CE: 0.035001, ACC: 0.980\n",
            "CE: 0.057742, ACC: 0.970\n",
            "Epoch: 10:\n",
            "CE: 0.023057, ACC: 0.990\n",
            "CE: 0.020738, ACC: 0.990\n",
            "CE: 0.020652, ACC: 1.000\n",
            "CE: 0.069928, ACC: 0.970\n",
            "CE: 0.061281, ACC: 0.970\n",
            "----------------------------------------------------------------\n",
            "Train time: 101.76835703849792\n",
            "----------------------------------------------------------------\n",
            "        Layer (type)               Output Shape         Param #\n",
            "================================================================\n",
            "            Conv2d-1           [-1, 32, 28, 28]             832\n",
            "              ReLU-2           [-1, 32, 28, 28]               0\n",
            "         MaxPool2d-3           [-1, 32, 14, 14]               0\n",
            "            Conv2d-4           [-1, 64, 14, 14]          51,264\n",
            "              ReLU-5           [-1, 64, 14, 14]               0\n",
            "         MaxPool2d-6             [-1, 64, 7, 7]               0\n",
            "           Flatten-7                 [-1, 3136]               0\n",
            "           Dropout-8                 [-1, 3136]               0\n",
            "            Linear-9                 [-1, 1024]       3,212,288\n",
            "             ReLU-10                 [-1, 1024]               0\n",
            "           Linear-11                   [-1, 10]          10,250\n",
            "================================================================\n",
            "Total params: 3,274,634\n",
            "Trainable params: 3,274,634\n",
            "Non-trainable params: 0\n",
            "----------------------------------------------------------------\n",
            "Input size (MB): 0.00\n",
            "Forward/backward pass size (MB): 0.71\n",
            "Params size (MB): 12.49\n",
            "Estimated Total Size (MB): 13.20\n",
            "----------------------------------------------------------------\n"
          ]
        }
      ]
    },
    {
      "cell_type": "markdown",
      "source": [
        "It can be seen from the training that the model with batch_size = 50 reached a balance accuracy of 0.99 at the beginning of epoch 4, and the model with batch_size = 100 reached a balance accuracy of 0.99 at the end of epoch 4.\n",
        "\n"
      ],
      "metadata": {
        "id": "MqOwJ5wVpggT"
      }
    },
    {
      "cell_type": "markdown",
      "source": [
        "# Evaluating the results"
      ],
      "metadata": {
        "id": "0YLLvZ2bBAVV"
      }
    },
    {
      "cell_type": "markdown",
      "source": [
        "**Architecture 1**"
      ],
      "metadata": {
        "id": "_zSr_T4sIQOL"
      }
    },
    {
      "cell_type": "code",
      "source": [
        "evaluate_model(model1)"
      ],
      "metadata": {
        "id": "AdLBsgwEH_da",
        "colab": {
          "base_uri": "https://localhost:8080/",
          "height": 206
        },
        "outputId": "af73a66e-4e9d-4d9d-b6e3-a8a02ad03f7c"
      },
      "execution_count": 25,
      "outputs": [
        {
          "output_type": "execute_result",
          "data": {
            "text/html": [
              "\n",
              "  <div id=\"df-8034158f-bcf6-4957-89b2-22a75e4afd31\">\n",
              "    <div class=\"colab-df-container\">\n",
              "      <div>\n",
              "<style scoped>\n",
              "    .dataframe tbody tr th:only-of-type {\n",
              "        vertical-align: middle;\n",
              "    }\n",
              "\n",
              "    .dataframe tbody tr th {\n",
              "        vertical-align: top;\n",
              "    }\n",
              "\n",
              "    .dataframe thead th {\n",
              "        text-align: right;\n",
              "    }\n",
              "</style>\n",
              "<table border=\"1\" class=\"dataframe\">\n",
              "  <thead>\n",
              "    <tr style=\"text-align: right;\">\n",
              "      <th></th>\n",
              "      <th>Train</th>\n",
              "      <th>Validation</th>\n",
              "      <th>Test</th>\n",
              "    </tr>\n",
              "  </thead>\n",
              "  <tbody>\n",
              "    <tr>\n",
              "      <th>Accuracy</th>\n",
              "      <td>0.798160</td>\n",
              "      <td>0.799200</td>\n",
              "      <td>0.813500</td>\n",
              "    </tr>\n",
              "    <tr>\n",
              "      <th>Recall</th>\n",
              "      <td>0.796545</td>\n",
              "      <td>0.790014</td>\n",
              "      <td>0.809836</td>\n",
              "    </tr>\n",
              "    <tr>\n",
              "      <th>Precision</th>\n",
              "      <td>0.818530</td>\n",
              "      <td>0.815939</td>\n",
              "      <td>0.830611</td>\n",
              "    </tr>\n",
              "    <tr>\n",
              "      <th>F1 score</th>\n",
              "      <td>0.772509</td>\n",
              "      <td>0.769516</td>\n",
              "      <td>0.788976</td>\n",
              "    </tr>\n",
              "    <tr>\n",
              "      <th>Balanced accuracy</th>\n",
              "      <td>0.795518</td>\n",
              "      <td>0.788838</td>\n",
              "      <td>0.809334</td>\n",
              "    </tr>\n",
              "  </tbody>\n",
              "</table>\n",
              "</div>\n",
              "      <button class=\"colab-df-convert\" onclick=\"convertToInteractive('df-8034158f-bcf6-4957-89b2-22a75e4afd31')\"\n",
              "              title=\"Convert this dataframe to an interactive table.\"\n",
              "              style=\"display:none;\">\n",
              "        \n",
              "  <svg xmlns=\"http://www.w3.org/2000/svg\" height=\"24px\"viewBox=\"0 0 24 24\"\n",
              "       width=\"24px\">\n",
              "    <path d=\"M0 0h24v24H0V0z\" fill=\"none\"/>\n",
              "    <path d=\"M18.56 5.44l.94 2.06.94-2.06 2.06-.94-2.06-.94-.94-2.06-.94 2.06-2.06.94zm-11 1L8.5 8.5l.94-2.06 2.06-.94-2.06-.94L8.5 2.5l-.94 2.06-2.06.94zm10 10l.94 2.06.94-2.06 2.06-.94-2.06-.94-.94-2.06-.94 2.06-2.06.94z\"/><path d=\"M17.41 7.96l-1.37-1.37c-.4-.4-.92-.59-1.43-.59-.52 0-1.04.2-1.43.59L10.3 9.45l-7.72 7.72c-.78.78-.78 2.05 0 2.83L4 21.41c.39.39.9.59 1.41.59.51 0 1.02-.2 1.41-.59l7.78-7.78 2.81-2.81c.8-.78.8-2.07 0-2.86zM5.41 20L4 18.59l7.72-7.72 1.47 1.35L5.41 20z\"/>\n",
              "  </svg>\n",
              "      </button>\n",
              "      \n",
              "  <style>\n",
              "    .colab-df-container {\n",
              "      display:flex;\n",
              "      flex-wrap:wrap;\n",
              "      gap: 12px;\n",
              "    }\n",
              "\n",
              "    .colab-df-convert {\n",
              "      background-color: #E8F0FE;\n",
              "      border: none;\n",
              "      border-radius: 50%;\n",
              "      cursor: pointer;\n",
              "      display: none;\n",
              "      fill: #1967D2;\n",
              "      height: 32px;\n",
              "      padding: 0 0 0 0;\n",
              "      width: 32px;\n",
              "    }\n",
              "\n",
              "    .colab-df-convert:hover {\n",
              "      background-color: #E2EBFA;\n",
              "      box-shadow: 0px 1px 2px rgba(60, 64, 67, 0.3), 0px 1px 3px 1px rgba(60, 64, 67, 0.15);\n",
              "      fill: #174EA6;\n",
              "    }\n",
              "\n",
              "    [theme=dark] .colab-df-convert {\n",
              "      background-color: #3B4455;\n",
              "      fill: #D2E3FC;\n",
              "    }\n",
              "\n",
              "    [theme=dark] .colab-df-convert:hover {\n",
              "      background-color: #434B5C;\n",
              "      box-shadow: 0px 1px 3px 1px rgba(0, 0, 0, 0.15);\n",
              "      filter: drop-shadow(0px 1px 2px rgba(0, 0, 0, 0.3));\n",
              "      fill: #FFFFFF;\n",
              "    }\n",
              "  </style>\n",
              "\n",
              "      <script>\n",
              "        const buttonEl =\n",
              "          document.querySelector('#df-8034158f-bcf6-4957-89b2-22a75e4afd31 button.colab-df-convert');\n",
              "        buttonEl.style.display =\n",
              "          google.colab.kernel.accessAllowed ? 'block' : 'none';\n",
              "\n",
              "        async function convertToInteractive(key) {\n",
              "          const element = document.querySelector('#df-8034158f-bcf6-4957-89b2-22a75e4afd31');\n",
              "          const dataTable =\n",
              "            await google.colab.kernel.invokeFunction('convertToInteractive',\n",
              "                                                     [key], {});\n",
              "          if (!dataTable) return;\n",
              "\n",
              "          const docLinkHtml = 'Like what you see? Visit the ' +\n",
              "            '<a target=\"_blank\" href=https://colab.research.google.com/notebooks/data_table.ipynb>data table notebook</a>'\n",
              "            + ' to learn more about interactive tables.';\n",
              "          element.innerHTML = '';\n",
              "          dataTable['output_type'] = 'display_data';\n",
              "          await google.colab.output.renderOutput(dataTable, element);\n",
              "          const docLink = document.createElement('div');\n",
              "          docLink.innerHTML = docLinkHtml;\n",
              "          element.appendChild(docLink);\n",
              "        }\n",
              "      </script>\n",
              "    </div>\n",
              "  </div>\n",
              "  "
            ],
            "text/plain": [
              "                      Train  Validation      Test\n",
              "Accuracy           0.798160    0.799200  0.813500\n",
              "Recall             0.796545    0.790014  0.809836\n",
              "Precision          0.818530    0.815939  0.830611\n",
              "F1 score           0.772509    0.769516  0.788976\n",
              "Balanced accuracy  0.795518    0.788838  0.809334"
            ]
          },
          "metadata": {},
          "execution_count": 25
        }
      ]
    },
    {
      "cell_type": "markdown",
      "source": [
        "**Architecture 2**"
      ],
      "metadata": {
        "id": "TXhalUxtIPYf"
      }
    },
    {
      "cell_type": "code",
      "source": [
        "evaluate_model(model2)"
      ],
      "metadata": {
        "id": "VsWd6dPSICvh",
        "colab": {
          "base_uri": "https://localhost:8080/",
          "height": 206
        },
        "outputId": "fb889838-5813-4916-8048-046cd9d76fdb"
      },
      "execution_count": 26,
      "outputs": [
        {
          "output_type": "execute_result",
          "data": {
            "text/html": [
              "\n",
              "  <div id=\"df-64e6bdc8-2f8f-4c09-a0c1-5579dc2b01ce\">\n",
              "    <div class=\"colab-df-container\">\n",
              "      <div>\n",
              "<style scoped>\n",
              "    .dataframe tbody tr th:only-of-type {\n",
              "        vertical-align: middle;\n",
              "    }\n",
              "\n",
              "    .dataframe tbody tr th {\n",
              "        vertical-align: top;\n",
              "    }\n",
              "\n",
              "    .dataframe thead th {\n",
              "        text-align: right;\n",
              "    }\n",
              "</style>\n",
              "<table border=\"1\" class=\"dataframe\">\n",
              "  <thead>\n",
              "    <tr style=\"text-align: right;\">\n",
              "      <th></th>\n",
              "      <th>Train</th>\n",
              "      <th>Validation</th>\n",
              "      <th>Test</th>\n",
              "    </tr>\n",
              "  </thead>\n",
              "  <tbody>\n",
              "    <tr>\n",
              "      <th>Accuracy</th>\n",
              "      <td>0.943020</td>\n",
              "      <td>0.934700</td>\n",
              "      <td>0.938900</td>\n",
              "    </tr>\n",
              "    <tr>\n",
              "      <th>Recall</th>\n",
              "      <td>0.942800</td>\n",
              "      <td>0.933755</td>\n",
              "      <td>0.939754</td>\n",
              "    </tr>\n",
              "    <tr>\n",
              "      <th>Precision</th>\n",
              "      <td>0.944436</td>\n",
              "      <td>0.934043</td>\n",
              "      <td>0.940551</td>\n",
              "    </tr>\n",
              "    <tr>\n",
              "      <th>F1 score</th>\n",
              "      <td>0.935066</td>\n",
              "      <td>0.923071</td>\n",
              "      <td>0.931377</td>\n",
              "    </tr>\n",
              "    <tr>\n",
              "      <th>Balanced accuracy</th>\n",
              "      <td>0.942468</td>\n",
              "      <td>0.933375</td>\n",
              "      <td>0.939454</td>\n",
              "    </tr>\n",
              "  </tbody>\n",
              "</table>\n",
              "</div>\n",
              "      <button class=\"colab-df-convert\" onclick=\"convertToInteractive('df-64e6bdc8-2f8f-4c09-a0c1-5579dc2b01ce')\"\n",
              "              title=\"Convert this dataframe to an interactive table.\"\n",
              "              style=\"display:none;\">\n",
              "        \n",
              "  <svg xmlns=\"http://www.w3.org/2000/svg\" height=\"24px\"viewBox=\"0 0 24 24\"\n",
              "       width=\"24px\">\n",
              "    <path d=\"M0 0h24v24H0V0z\" fill=\"none\"/>\n",
              "    <path d=\"M18.56 5.44l.94 2.06.94-2.06 2.06-.94-2.06-.94-.94-2.06-.94 2.06-2.06.94zm-11 1L8.5 8.5l.94-2.06 2.06-.94-2.06-.94L8.5 2.5l-.94 2.06-2.06.94zm10 10l.94 2.06.94-2.06 2.06-.94-2.06-.94-.94-2.06-.94 2.06-2.06.94z\"/><path d=\"M17.41 7.96l-1.37-1.37c-.4-.4-.92-.59-1.43-.59-.52 0-1.04.2-1.43.59L10.3 9.45l-7.72 7.72c-.78.78-.78 2.05 0 2.83L4 21.41c.39.39.9.59 1.41.59.51 0 1.02-.2 1.41-.59l7.78-7.78 2.81-2.81c.8-.78.8-2.07 0-2.86zM5.41 20L4 18.59l7.72-7.72 1.47 1.35L5.41 20z\"/>\n",
              "  </svg>\n",
              "      </button>\n",
              "      \n",
              "  <style>\n",
              "    .colab-df-container {\n",
              "      display:flex;\n",
              "      flex-wrap:wrap;\n",
              "      gap: 12px;\n",
              "    }\n",
              "\n",
              "    .colab-df-convert {\n",
              "      background-color: #E8F0FE;\n",
              "      border: none;\n",
              "      border-radius: 50%;\n",
              "      cursor: pointer;\n",
              "      display: none;\n",
              "      fill: #1967D2;\n",
              "      height: 32px;\n",
              "      padding: 0 0 0 0;\n",
              "      width: 32px;\n",
              "    }\n",
              "\n",
              "    .colab-df-convert:hover {\n",
              "      background-color: #E2EBFA;\n",
              "      box-shadow: 0px 1px 2px rgba(60, 64, 67, 0.3), 0px 1px 3px 1px rgba(60, 64, 67, 0.15);\n",
              "      fill: #174EA6;\n",
              "    }\n",
              "\n",
              "    [theme=dark] .colab-df-convert {\n",
              "      background-color: #3B4455;\n",
              "      fill: #D2E3FC;\n",
              "    }\n",
              "\n",
              "    [theme=dark] .colab-df-convert:hover {\n",
              "      background-color: #434B5C;\n",
              "      box-shadow: 0px 1px 3px 1px rgba(0, 0, 0, 0.15);\n",
              "      filter: drop-shadow(0px 1px 2px rgba(0, 0, 0, 0.3));\n",
              "      fill: #FFFFFF;\n",
              "    }\n",
              "  </style>\n",
              "\n",
              "      <script>\n",
              "        const buttonEl =\n",
              "          document.querySelector('#df-64e6bdc8-2f8f-4c09-a0c1-5579dc2b01ce button.colab-df-convert');\n",
              "        buttonEl.style.display =\n",
              "          google.colab.kernel.accessAllowed ? 'block' : 'none';\n",
              "\n",
              "        async function convertToInteractive(key) {\n",
              "          const element = document.querySelector('#df-64e6bdc8-2f8f-4c09-a0c1-5579dc2b01ce');\n",
              "          const dataTable =\n",
              "            await google.colab.kernel.invokeFunction('convertToInteractive',\n",
              "                                                     [key], {});\n",
              "          if (!dataTable) return;\n",
              "\n",
              "          const docLinkHtml = 'Like what you see? Visit the ' +\n",
              "            '<a target=\"_blank\" href=https://colab.research.google.com/notebooks/data_table.ipynb>data table notebook</a>'\n",
              "            + ' to learn more about interactive tables.';\n",
              "          element.innerHTML = '';\n",
              "          dataTable['output_type'] = 'display_data';\n",
              "          await google.colab.output.renderOutput(dataTable, element);\n",
              "          const docLink = document.createElement('div');\n",
              "          docLink.innerHTML = docLinkHtml;\n",
              "          element.appendChild(docLink);\n",
              "        }\n",
              "      </script>\n",
              "    </div>\n",
              "  </div>\n",
              "  "
            ],
            "text/plain": [
              "                      Train  Validation      Test\n",
              "Accuracy           0.943020    0.934700  0.938900\n",
              "Recall             0.942800    0.933755  0.939754\n",
              "Precision          0.944436    0.934043  0.940551\n",
              "F1 score           0.935066    0.923071  0.931377\n",
              "Balanced accuracy  0.942468    0.933375  0.939454"
            ]
          },
          "metadata": {},
          "execution_count": 26
        }
      ]
    },
    {
      "cell_type": "markdown",
      "source": [
        "**Architecture 3**"
      ],
      "metadata": {
        "id": "np-SKyUBIObI"
      }
    },
    {
      "cell_type": "code",
      "source": [
        "evaluate_model(model3)"
      ],
      "metadata": {
        "id": "8LEcftQoICs8",
        "colab": {
          "base_uri": "https://localhost:8080/",
          "height": 206
        },
        "outputId": "0aa7e6c3-7b8f-4dae-e1ad-d1a424a645fb"
      },
      "execution_count": 27,
      "outputs": [
        {
          "output_type": "execute_result",
          "data": {
            "text/html": [
              "\n",
              "  <div id=\"df-91e0d614-7e98-475c-b8f3-f73771d9d2dd\">\n",
              "    <div class=\"colab-df-container\">\n",
              "      <div>\n",
              "<style scoped>\n",
              "    .dataframe tbody tr th:only-of-type {\n",
              "        vertical-align: middle;\n",
              "    }\n",
              "\n",
              "    .dataframe tbody tr th {\n",
              "        vertical-align: top;\n",
              "    }\n",
              "\n",
              "    .dataframe thead th {\n",
              "        text-align: right;\n",
              "    }\n",
              "</style>\n",
              "<table border=\"1\" class=\"dataframe\">\n",
              "  <thead>\n",
              "    <tr style=\"text-align: right;\">\n",
              "      <th></th>\n",
              "      <th>Train</th>\n",
              "      <th>Validation</th>\n",
              "      <th>Test</th>\n",
              "    </tr>\n",
              "  </thead>\n",
              "  <tbody>\n",
              "    <tr>\n",
              "      <th>Accuracy</th>\n",
              "      <td>0.981060</td>\n",
              "      <td>0.973200</td>\n",
              "      <td>0.974700</td>\n",
              "    </tr>\n",
              "    <tr>\n",
              "      <th>Recall</th>\n",
              "      <td>0.980832</td>\n",
              "      <td>0.972554</td>\n",
              "      <td>0.973685</td>\n",
              "    </tr>\n",
              "    <tr>\n",
              "      <th>Precision</th>\n",
              "      <td>0.981670</td>\n",
              "      <td>0.973274</td>\n",
              "      <td>0.975110</td>\n",
              "    </tr>\n",
              "    <tr>\n",
              "      <th>F1 score</th>\n",
              "      <td>0.978122</td>\n",
              "      <td>0.967956</td>\n",
              "      <td>0.969806</td>\n",
              "    </tr>\n",
              "    <tr>\n",
              "      <th>Balanced accuracy</th>\n",
              "      <td>0.980741</td>\n",
              "      <td>0.972397</td>\n",
              "      <td>0.973552</td>\n",
              "    </tr>\n",
              "  </tbody>\n",
              "</table>\n",
              "</div>\n",
              "      <button class=\"colab-df-convert\" onclick=\"convertToInteractive('df-91e0d614-7e98-475c-b8f3-f73771d9d2dd')\"\n",
              "              title=\"Convert this dataframe to an interactive table.\"\n",
              "              style=\"display:none;\">\n",
              "        \n",
              "  <svg xmlns=\"http://www.w3.org/2000/svg\" height=\"24px\"viewBox=\"0 0 24 24\"\n",
              "       width=\"24px\">\n",
              "    <path d=\"M0 0h24v24H0V0z\" fill=\"none\"/>\n",
              "    <path d=\"M18.56 5.44l.94 2.06.94-2.06 2.06-.94-2.06-.94-.94-2.06-.94 2.06-2.06.94zm-11 1L8.5 8.5l.94-2.06 2.06-.94-2.06-.94L8.5 2.5l-.94 2.06-2.06.94zm10 10l.94 2.06.94-2.06 2.06-.94-2.06-.94-.94-2.06-.94 2.06-2.06.94z\"/><path d=\"M17.41 7.96l-1.37-1.37c-.4-.4-.92-.59-1.43-.59-.52 0-1.04.2-1.43.59L10.3 9.45l-7.72 7.72c-.78.78-.78 2.05 0 2.83L4 21.41c.39.39.9.59 1.41.59.51 0 1.02-.2 1.41-.59l7.78-7.78 2.81-2.81c.8-.78.8-2.07 0-2.86zM5.41 20L4 18.59l7.72-7.72 1.47 1.35L5.41 20z\"/>\n",
              "  </svg>\n",
              "      </button>\n",
              "      \n",
              "  <style>\n",
              "    .colab-df-container {\n",
              "      display:flex;\n",
              "      flex-wrap:wrap;\n",
              "      gap: 12px;\n",
              "    }\n",
              "\n",
              "    .colab-df-convert {\n",
              "      background-color: #E8F0FE;\n",
              "      border: none;\n",
              "      border-radius: 50%;\n",
              "      cursor: pointer;\n",
              "      display: none;\n",
              "      fill: #1967D2;\n",
              "      height: 32px;\n",
              "      padding: 0 0 0 0;\n",
              "      width: 32px;\n",
              "    }\n",
              "\n",
              "    .colab-df-convert:hover {\n",
              "      background-color: #E2EBFA;\n",
              "      box-shadow: 0px 1px 2px rgba(60, 64, 67, 0.3), 0px 1px 3px 1px rgba(60, 64, 67, 0.15);\n",
              "      fill: #174EA6;\n",
              "    }\n",
              "\n",
              "    [theme=dark] .colab-df-convert {\n",
              "      background-color: #3B4455;\n",
              "      fill: #D2E3FC;\n",
              "    }\n",
              "\n",
              "    [theme=dark] .colab-df-convert:hover {\n",
              "      background-color: #434B5C;\n",
              "      box-shadow: 0px 1px 3px 1px rgba(0, 0, 0, 0.15);\n",
              "      filter: drop-shadow(0px 1px 2px rgba(0, 0, 0, 0.3));\n",
              "      fill: #FFFFFF;\n",
              "    }\n",
              "  </style>\n",
              "\n",
              "      <script>\n",
              "        const buttonEl =\n",
              "          document.querySelector('#df-91e0d614-7e98-475c-b8f3-f73771d9d2dd button.colab-df-convert');\n",
              "        buttonEl.style.display =\n",
              "          google.colab.kernel.accessAllowed ? 'block' : 'none';\n",
              "\n",
              "        async function convertToInteractive(key) {\n",
              "          const element = document.querySelector('#df-91e0d614-7e98-475c-b8f3-f73771d9d2dd');\n",
              "          const dataTable =\n",
              "            await google.colab.kernel.invokeFunction('convertToInteractive',\n",
              "                                                     [key], {});\n",
              "          if (!dataTable) return;\n",
              "\n",
              "          const docLinkHtml = 'Like what you see? Visit the ' +\n",
              "            '<a target=\"_blank\" href=https://colab.research.google.com/notebooks/data_table.ipynb>data table notebook</a>'\n",
              "            + ' to learn more about interactive tables.';\n",
              "          element.innerHTML = '';\n",
              "          dataTable['output_type'] = 'display_data';\n",
              "          await google.colab.output.renderOutput(dataTable, element);\n",
              "          const docLink = document.createElement('div');\n",
              "          docLink.innerHTML = docLinkHtml;\n",
              "          element.appendChild(docLink);\n",
              "        }\n",
              "      </script>\n",
              "    </div>\n",
              "  </div>\n",
              "  "
            ],
            "text/plain": [
              "                      Train  Validation      Test\n",
              "Accuracy           0.981060    0.973200  0.974700\n",
              "Recall             0.980832    0.972554  0.973685\n",
              "Precision          0.981670    0.973274  0.975110\n",
              "F1 score           0.978122    0.967956  0.969806\n",
              "Balanced accuracy  0.980741    0.972397  0.973552"
            ]
          },
          "metadata": {},
          "execution_count": 27
        }
      ]
    },
    {
      "cell_type": "markdown",
      "source": [
        "**Architecture 4**"
      ],
      "metadata": {
        "id": "ue3UMqR-IMlB"
      }
    },
    {
      "cell_type": "code",
      "source": [
        "evaluate_model(model4)"
      ],
      "metadata": {
        "id": "kjdNuzvWICqj",
        "colab": {
          "base_uri": "https://localhost:8080/",
          "height": 206
        },
        "outputId": "35fe21b7-e6d4-4521-f709-6d9e60fe36e5"
      },
      "execution_count": 28,
      "outputs": [
        {
          "output_type": "execute_result",
          "data": {
            "text/html": [
              "\n",
              "  <div id=\"df-76ccee3e-3271-4fde-9573-8eb376808706\">\n",
              "    <div class=\"colab-df-container\">\n",
              "      <div>\n",
              "<style scoped>\n",
              "    .dataframe tbody tr th:only-of-type {\n",
              "        vertical-align: middle;\n",
              "    }\n",
              "\n",
              "    .dataframe tbody tr th {\n",
              "        vertical-align: top;\n",
              "    }\n",
              "\n",
              "    .dataframe thead th {\n",
              "        text-align: right;\n",
              "    }\n",
              "</style>\n",
              "<table border=\"1\" class=\"dataframe\">\n",
              "  <thead>\n",
              "    <tr style=\"text-align: right;\">\n",
              "      <th></th>\n",
              "      <th>Train</th>\n",
              "      <th>Validation</th>\n",
              "      <th>Test</th>\n",
              "    </tr>\n",
              "  </thead>\n",
              "  <tbody>\n",
              "    <tr>\n",
              "      <th>Accuracy</th>\n",
              "      <td>0.991780</td>\n",
              "      <td>0.983100</td>\n",
              "      <td>0.984100</td>\n",
              "    </tr>\n",
              "    <tr>\n",
              "      <th>Recall</th>\n",
              "      <td>0.992043</td>\n",
              "      <td>0.982843</td>\n",
              "      <td>0.983758</td>\n",
              "    </tr>\n",
              "    <tr>\n",
              "      <th>Precision</th>\n",
              "      <td>0.992369</td>\n",
              "      <td>0.983004</td>\n",
              "      <td>0.984837</td>\n",
              "    </tr>\n",
              "    <tr>\n",
              "      <th>F1 score</th>\n",
              "      <td>0.991067</td>\n",
              "      <td>0.980142</td>\n",
              "      <td>0.981711</td>\n",
              "    </tr>\n",
              "    <tr>\n",
              "      <th>Balanced accuracy</th>\n",
              "      <td>0.991997</td>\n",
              "      <td>0.982745</td>\n",
              "      <td>0.983758</td>\n",
              "    </tr>\n",
              "  </tbody>\n",
              "</table>\n",
              "</div>\n",
              "      <button class=\"colab-df-convert\" onclick=\"convertToInteractive('df-76ccee3e-3271-4fde-9573-8eb376808706')\"\n",
              "              title=\"Convert this dataframe to an interactive table.\"\n",
              "              style=\"display:none;\">\n",
              "        \n",
              "  <svg xmlns=\"http://www.w3.org/2000/svg\" height=\"24px\"viewBox=\"0 0 24 24\"\n",
              "       width=\"24px\">\n",
              "    <path d=\"M0 0h24v24H0V0z\" fill=\"none\"/>\n",
              "    <path d=\"M18.56 5.44l.94 2.06.94-2.06 2.06-.94-2.06-.94-.94-2.06-.94 2.06-2.06.94zm-11 1L8.5 8.5l.94-2.06 2.06-.94-2.06-.94L8.5 2.5l-.94 2.06-2.06.94zm10 10l.94 2.06.94-2.06 2.06-.94-2.06-.94-.94-2.06-.94 2.06-2.06.94z\"/><path d=\"M17.41 7.96l-1.37-1.37c-.4-.4-.92-.59-1.43-.59-.52 0-1.04.2-1.43.59L10.3 9.45l-7.72 7.72c-.78.78-.78 2.05 0 2.83L4 21.41c.39.39.9.59 1.41.59.51 0 1.02-.2 1.41-.59l7.78-7.78 2.81-2.81c.8-.78.8-2.07 0-2.86zM5.41 20L4 18.59l7.72-7.72 1.47 1.35L5.41 20z\"/>\n",
              "  </svg>\n",
              "      </button>\n",
              "      \n",
              "  <style>\n",
              "    .colab-df-container {\n",
              "      display:flex;\n",
              "      flex-wrap:wrap;\n",
              "      gap: 12px;\n",
              "    }\n",
              "\n",
              "    .colab-df-convert {\n",
              "      background-color: #E8F0FE;\n",
              "      border: none;\n",
              "      border-radius: 50%;\n",
              "      cursor: pointer;\n",
              "      display: none;\n",
              "      fill: #1967D2;\n",
              "      height: 32px;\n",
              "      padding: 0 0 0 0;\n",
              "      width: 32px;\n",
              "    }\n",
              "\n",
              "    .colab-df-convert:hover {\n",
              "      background-color: #E2EBFA;\n",
              "      box-shadow: 0px 1px 2px rgba(60, 64, 67, 0.3), 0px 1px 3px 1px rgba(60, 64, 67, 0.15);\n",
              "      fill: #174EA6;\n",
              "    }\n",
              "\n",
              "    [theme=dark] .colab-df-convert {\n",
              "      background-color: #3B4455;\n",
              "      fill: #D2E3FC;\n",
              "    }\n",
              "\n",
              "    [theme=dark] .colab-df-convert:hover {\n",
              "      background-color: #434B5C;\n",
              "      box-shadow: 0px 1px 3px 1px rgba(0, 0, 0, 0.15);\n",
              "      filter: drop-shadow(0px 1px 2px rgba(0, 0, 0, 0.3));\n",
              "      fill: #FFFFFF;\n",
              "    }\n",
              "  </style>\n",
              "\n",
              "      <script>\n",
              "        const buttonEl =\n",
              "          document.querySelector('#df-76ccee3e-3271-4fde-9573-8eb376808706 button.colab-df-convert');\n",
              "        buttonEl.style.display =\n",
              "          google.colab.kernel.accessAllowed ? 'block' : 'none';\n",
              "\n",
              "        async function convertToInteractive(key) {\n",
              "          const element = document.querySelector('#df-76ccee3e-3271-4fde-9573-8eb376808706');\n",
              "          const dataTable =\n",
              "            await google.colab.kernel.invokeFunction('convertToInteractive',\n",
              "                                                     [key], {});\n",
              "          if (!dataTable) return;\n",
              "\n",
              "          const docLinkHtml = 'Like what you see? Visit the ' +\n",
              "            '<a target=\"_blank\" href=https://colab.research.google.com/notebooks/data_table.ipynb>data table notebook</a>'\n",
              "            + ' to learn more about interactive tables.';\n",
              "          element.innerHTML = '';\n",
              "          dataTable['output_type'] = 'display_data';\n",
              "          await google.colab.output.renderOutput(dataTable, element);\n",
              "          const docLink = document.createElement('div');\n",
              "          docLink.innerHTML = docLinkHtml;\n",
              "          element.appendChild(docLink);\n",
              "        }\n",
              "      </script>\n",
              "    </div>\n",
              "  </div>\n",
              "  "
            ],
            "text/plain": [
              "                      Train  Validation      Test\n",
              "Accuracy           0.991780    0.983100  0.984100\n",
              "Recall             0.992043    0.982843  0.983758\n",
              "Precision          0.992369    0.983004  0.984837\n",
              "F1 score           0.991067    0.980142  0.981711\n",
              "Balanced accuracy  0.991997    0.982745  0.983758"
            ]
          },
          "metadata": {},
          "execution_count": 28
        }
      ]
    },
    {
      "cell_type": "markdown",
      "source": [
        "**Architecture 5 (batch_size=50)**"
      ],
      "metadata": {
        "id": "rRkexw7VILIm"
      }
    },
    {
      "cell_type": "code",
      "source": [
        "evaluate_model(model5)"
      ],
      "metadata": {
        "id": "suO-rRZaICn4",
        "colab": {
          "base_uri": "https://localhost:8080/",
          "height": 206
        },
        "outputId": "e116926a-cbe6-4a25-d78d-1d377b645eee"
      },
      "execution_count": 29,
      "outputs": [
        {
          "output_type": "execute_result",
          "data": {
            "text/html": [
              "\n",
              "  <div id=\"df-688db8f9-3de5-471f-a38e-bc73bdda118d\">\n",
              "    <div class=\"colab-df-container\">\n",
              "      <div>\n",
              "<style scoped>\n",
              "    .dataframe tbody tr th:only-of-type {\n",
              "        vertical-align: middle;\n",
              "    }\n",
              "\n",
              "    .dataframe tbody tr th {\n",
              "        vertical-align: top;\n",
              "    }\n",
              "\n",
              "    .dataframe thead th {\n",
              "        text-align: right;\n",
              "    }\n",
              "</style>\n",
              "<table border=\"1\" class=\"dataframe\">\n",
              "  <thead>\n",
              "    <tr style=\"text-align: right;\">\n",
              "      <th></th>\n",
              "      <th>Train</th>\n",
              "      <th>Validation</th>\n",
              "      <th>Test</th>\n",
              "    </tr>\n",
              "  </thead>\n",
              "  <tbody>\n",
              "    <tr>\n",
              "      <th>Accuracy</th>\n",
              "      <td>0.987360</td>\n",
              "      <td>0.980100</td>\n",
              "      <td>0.981200</td>\n",
              "    </tr>\n",
              "    <tr>\n",
              "      <th>Recall</th>\n",
              "      <td>0.987467</td>\n",
              "      <td>0.978323</td>\n",
              "      <td>0.980666</td>\n",
              "    </tr>\n",
              "    <tr>\n",
              "      <th>Precision</th>\n",
              "      <td>0.987718</td>\n",
              "      <td>0.979579</td>\n",
              "      <td>0.980089</td>\n",
              "    </tr>\n",
              "    <tr>\n",
              "      <th>F1 score</th>\n",
              "      <td>0.985707</td>\n",
              "      <td>0.975441</td>\n",
              "      <td>0.976403</td>\n",
              "    </tr>\n",
              "    <tr>\n",
              "      <th>Balanced accuracy</th>\n",
              "      <td>0.987405</td>\n",
              "      <td>0.978204</td>\n",
              "      <td>0.980525</td>\n",
              "    </tr>\n",
              "  </tbody>\n",
              "</table>\n",
              "</div>\n",
              "      <button class=\"colab-df-convert\" onclick=\"convertToInteractive('df-688db8f9-3de5-471f-a38e-bc73bdda118d')\"\n",
              "              title=\"Convert this dataframe to an interactive table.\"\n",
              "              style=\"display:none;\">\n",
              "        \n",
              "  <svg xmlns=\"http://www.w3.org/2000/svg\" height=\"24px\"viewBox=\"0 0 24 24\"\n",
              "       width=\"24px\">\n",
              "    <path d=\"M0 0h24v24H0V0z\" fill=\"none\"/>\n",
              "    <path d=\"M18.56 5.44l.94 2.06.94-2.06 2.06-.94-2.06-.94-.94-2.06-.94 2.06-2.06.94zm-11 1L8.5 8.5l.94-2.06 2.06-.94-2.06-.94L8.5 2.5l-.94 2.06-2.06.94zm10 10l.94 2.06.94-2.06 2.06-.94-2.06-.94-.94-2.06-.94 2.06-2.06.94z\"/><path d=\"M17.41 7.96l-1.37-1.37c-.4-.4-.92-.59-1.43-.59-.52 0-1.04.2-1.43.59L10.3 9.45l-7.72 7.72c-.78.78-.78 2.05 0 2.83L4 21.41c.39.39.9.59 1.41.59.51 0 1.02-.2 1.41-.59l7.78-7.78 2.81-2.81c.8-.78.8-2.07 0-2.86zM5.41 20L4 18.59l7.72-7.72 1.47 1.35L5.41 20z\"/>\n",
              "  </svg>\n",
              "      </button>\n",
              "      \n",
              "  <style>\n",
              "    .colab-df-container {\n",
              "      display:flex;\n",
              "      flex-wrap:wrap;\n",
              "      gap: 12px;\n",
              "    }\n",
              "\n",
              "    .colab-df-convert {\n",
              "      background-color: #E8F0FE;\n",
              "      border: none;\n",
              "      border-radius: 50%;\n",
              "      cursor: pointer;\n",
              "      display: none;\n",
              "      fill: #1967D2;\n",
              "      height: 32px;\n",
              "      padding: 0 0 0 0;\n",
              "      width: 32px;\n",
              "    }\n",
              "\n",
              "    .colab-df-convert:hover {\n",
              "      background-color: #E2EBFA;\n",
              "      box-shadow: 0px 1px 2px rgba(60, 64, 67, 0.3), 0px 1px 3px 1px rgba(60, 64, 67, 0.15);\n",
              "      fill: #174EA6;\n",
              "    }\n",
              "\n",
              "    [theme=dark] .colab-df-convert {\n",
              "      background-color: #3B4455;\n",
              "      fill: #D2E3FC;\n",
              "    }\n",
              "\n",
              "    [theme=dark] .colab-df-convert:hover {\n",
              "      background-color: #434B5C;\n",
              "      box-shadow: 0px 1px 3px 1px rgba(0, 0, 0, 0.15);\n",
              "      filter: drop-shadow(0px 1px 2px rgba(0, 0, 0, 0.3));\n",
              "      fill: #FFFFFF;\n",
              "    }\n",
              "  </style>\n",
              "\n",
              "      <script>\n",
              "        const buttonEl =\n",
              "          document.querySelector('#df-688db8f9-3de5-471f-a38e-bc73bdda118d button.colab-df-convert');\n",
              "        buttonEl.style.display =\n",
              "          google.colab.kernel.accessAllowed ? 'block' : 'none';\n",
              "\n",
              "        async function convertToInteractive(key) {\n",
              "          const element = document.querySelector('#df-688db8f9-3de5-471f-a38e-bc73bdda118d');\n",
              "          const dataTable =\n",
              "            await google.colab.kernel.invokeFunction('convertToInteractive',\n",
              "                                                     [key], {});\n",
              "          if (!dataTable) return;\n",
              "\n",
              "          const docLinkHtml = 'Like what you see? Visit the ' +\n",
              "            '<a target=\"_blank\" href=https://colab.research.google.com/notebooks/data_table.ipynb>data table notebook</a>'\n",
              "            + ' to learn more about interactive tables.';\n",
              "          element.innerHTML = '';\n",
              "          dataTable['output_type'] = 'display_data';\n",
              "          await google.colab.output.renderOutput(dataTable, element);\n",
              "          const docLink = document.createElement('div');\n",
              "          docLink.innerHTML = docLinkHtml;\n",
              "          element.appendChild(docLink);\n",
              "        }\n",
              "      </script>\n",
              "    </div>\n",
              "  </div>\n",
              "  "
            ],
            "text/plain": [
              "                      Train  Validation      Test\n",
              "Accuracy           0.987360    0.980100  0.981200\n",
              "Recall             0.987467    0.978323  0.980666\n",
              "Precision          0.987718    0.979579  0.980089\n",
              "F1 score           0.985707    0.975441  0.976403\n",
              "Balanced accuracy  0.987405    0.978204  0.980525"
            ]
          },
          "metadata": {},
          "execution_count": 29
        }
      ]
    },
    {
      "cell_type": "markdown",
      "source": [
        "**Architecture 5 (batch_size=100)**"
      ],
      "metadata": {
        "id": "zcyjMdIJIKHE"
      }
    },
    {
      "cell_type": "code",
      "source": [
        "evaluate_model(model5_a)"
      ],
      "metadata": {
        "id": "kKQ6Wlt0IClF",
        "colab": {
          "base_uri": "https://localhost:8080/",
          "height": 206
        },
        "outputId": "5cd33711-6a29-45f1-ef38-4e690b6717bd"
      },
      "execution_count": 30,
      "outputs": [
        {
          "output_type": "execute_result",
          "data": {
            "text/html": [
              "\n",
              "  <div id=\"df-ccac145d-4f92-4dda-973e-0fc1ff81be9e\">\n",
              "    <div class=\"colab-df-container\">\n",
              "      <div>\n",
              "<style scoped>\n",
              "    .dataframe tbody tr th:only-of-type {\n",
              "        vertical-align: middle;\n",
              "    }\n",
              "\n",
              "    .dataframe tbody tr th {\n",
              "        vertical-align: top;\n",
              "    }\n",
              "\n",
              "    .dataframe thead th {\n",
              "        text-align: right;\n",
              "    }\n",
              "</style>\n",
              "<table border=\"1\" class=\"dataframe\">\n",
              "  <thead>\n",
              "    <tr style=\"text-align: right;\">\n",
              "      <th></th>\n",
              "      <th>Train</th>\n",
              "      <th>Validation</th>\n",
              "      <th>Test</th>\n",
              "    </tr>\n",
              "  </thead>\n",
              "  <tbody>\n",
              "    <tr>\n",
              "      <th>Accuracy</th>\n",
              "      <td>0.981120</td>\n",
              "      <td>0.971900</td>\n",
              "      <td>0.976300</td>\n",
              "    </tr>\n",
              "    <tr>\n",
              "      <th>Recall</th>\n",
              "      <td>0.981198</td>\n",
              "      <td>0.970971</td>\n",
              "      <td>0.975864</td>\n",
              "    </tr>\n",
              "    <tr>\n",
              "      <th>Precision</th>\n",
              "      <td>0.981544</td>\n",
              "      <td>0.972618</td>\n",
              "      <td>0.976055</td>\n",
              "    </tr>\n",
              "    <tr>\n",
              "      <th>F1 score</th>\n",
              "      <td>0.978123</td>\n",
              "      <td>0.966097</td>\n",
              "      <td>0.971601</td>\n",
              "    </tr>\n",
              "    <tr>\n",
              "      <th>Balanced accuracy</th>\n",
              "      <td>0.981099</td>\n",
              "      <td>0.970784</td>\n",
              "      <td>0.975743</td>\n",
              "    </tr>\n",
              "  </tbody>\n",
              "</table>\n",
              "</div>\n",
              "      <button class=\"colab-df-convert\" onclick=\"convertToInteractive('df-ccac145d-4f92-4dda-973e-0fc1ff81be9e')\"\n",
              "              title=\"Convert this dataframe to an interactive table.\"\n",
              "              style=\"display:none;\">\n",
              "        \n",
              "  <svg xmlns=\"http://www.w3.org/2000/svg\" height=\"24px\"viewBox=\"0 0 24 24\"\n",
              "       width=\"24px\">\n",
              "    <path d=\"M0 0h24v24H0V0z\" fill=\"none\"/>\n",
              "    <path d=\"M18.56 5.44l.94 2.06.94-2.06 2.06-.94-2.06-.94-.94-2.06-.94 2.06-2.06.94zm-11 1L8.5 8.5l.94-2.06 2.06-.94-2.06-.94L8.5 2.5l-.94 2.06-2.06.94zm10 10l.94 2.06.94-2.06 2.06-.94-2.06-.94-.94-2.06-.94 2.06-2.06.94z\"/><path d=\"M17.41 7.96l-1.37-1.37c-.4-.4-.92-.59-1.43-.59-.52 0-1.04.2-1.43.59L10.3 9.45l-7.72 7.72c-.78.78-.78 2.05 0 2.83L4 21.41c.39.39.9.59 1.41.59.51 0 1.02-.2 1.41-.59l7.78-7.78 2.81-2.81c.8-.78.8-2.07 0-2.86zM5.41 20L4 18.59l7.72-7.72 1.47 1.35L5.41 20z\"/>\n",
              "  </svg>\n",
              "      </button>\n",
              "      \n",
              "  <style>\n",
              "    .colab-df-container {\n",
              "      display:flex;\n",
              "      flex-wrap:wrap;\n",
              "      gap: 12px;\n",
              "    }\n",
              "\n",
              "    .colab-df-convert {\n",
              "      background-color: #E8F0FE;\n",
              "      border: none;\n",
              "      border-radius: 50%;\n",
              "      cursor: pointer;\n",
              "      display: none;\n",
              "      fill: #1967D2;\n",
              "      height: 32px;\n",
              "      padding: 0 0 0 0;\n",
              "      width: 32px;\n",
              "    }\n",
              "\n",
              "    .colab-df-convert:hover {\n",
              "      background-color: #E2EBFA;\n",
              "      box-shadow: 0px 1px 2px rgba(60, 64, 67, 0.3), 0px 1px 3px 1px rgba(60, 64, 67, 0.15);\n",
              "      fill: #174EA6;\n",
              "    }\n",
              "\n",
              "    [theme=dark] .colab-df-convert {\n",
              "      background-color: #3B4455;\n",
              "      fill: #D2E3FC;\n",
              "    }\n",
              "\n",
              "    [theme=dark] .colab-df-convert:hover {\n",
              "      background-color: #434B5C;\n",
              "      box-shadow: 0px 1px 3px 1px rgba(0, 0, 0, 0.15);\n",
              "      filter: drop-shadow(0px 1px 2px rgba(0, 0, 0, 0.3));\n",
              "      fill: #FFFFFF;\n",
              "    }\n",
              "  </style>\n",
              "\n",
              "      <script>\n",
              "        const buttonEl =\n",
              "          document.querySelector('#df-ccac145d-4f92-4dda-973e-0fc1ff81be9e button.colab-df-convert');\n",
              "        buttonEl.style.display =\n",
              "          google.colab.kernel.accessAllowed ? 'block' : 'none';\n",
              "\n",
              "        async function convertToInteractive(key) {\n",
              "          const element = document.querySelector('#df-ccac145d-4f92-4dda-973e-0fc1ff81be9e');\n",
              "          const dataTable =\n",
              "            await google.colab.kernel.invokeFunction('convertToInteractive',\n",
              "                                                     [key], {});\n",
              "          if (!dataTable) return;\n",
              "\n",
              "          const docLinkHtml = 'Like what you see? Visit the ' +\n",
              "            '<a target=\"_blank\" href=https://colab.research.google.com/notebooks/data_table.ipynb>data table notebook</a>'\n",
              "            + ' to learn more about interactive tables.';\n",
              "          element.innerHTML = '';\n",
              "          dataTable['output_type'] = 'display_data';\n",
              "          await google.colab.output.renderOutput(dataTable, element);\n",
              "          const docLink = document.createElement('div');\n",
              "          docLink.innerHTML = docLinkHtml;\n",
              "          element.appendChild(docLink);\n",
              "        }\n",
              "      </script>\n",
              "    </div>\n",
              "  </div>\n",
              "  "
            ],
            "text/plain": [
              "                      Train  Validation      Test\n",
              "Accuracy           0.981120    0.971900  0.976300\n",
              "Recall             0.981198    0.970971  0.975864\n",
              "Precision          0.981544    0.972618  0.976055\n",
              "F1 score           0.978123    0.966097  0.971601\n",
              "Balanced accuracy  0.981099    0.970784  0.975743"
            ]
          },
          "metadata": {},
          "execution_count": 30
        }
      ]
    },
    {
      "cell_type": "markdown",
      "source": [
        "# Best Model Visualizations\n",
        "\n",
        "We can see from the success metrics that model 4 had the highest balance accuracy of all the convolution layers and therefore we can choose this model to display his weights and convolution images."
      ],
      "metadata": {
        "id": "5ZWgAYfYSUME"
      }
    },
    {
      "cell_type": "markdown",
      "source": [
        "**5 Different Visualizations**"
      ],
      "metadata": {
        "id": "jIjps6KUSfAw"
      }
    },
    {
      "cell_type": "code",
      "source": [
        "print_weights(model4, 0, num_of_images=5)"
      ],
      "metadata": {
        "id": "1ARmYyEzqRq2",
        "colab": {
          "base_uri": "https://localhost:8080/",
          "height": 1000
        },
        "outputId": "7def02d2-9a1e-456e-b4d0-744cf5fb889b"
      },
      "execution_count": 31,
      "outputs": [
        {
          "output_type": "display_data",
          "data": {
            "image/png": "[encoded data removed]",
            "text/plain": [
              "<Figure size 432x288 with 1 Axes>"
            ]
          },
          "metadata": {
            "needs_background": "light"
          }
        },
        {
          "output_type": "display_data",
          "data": {
            "image/png": "[encoded data removed]",
            "text/plain": [
              "<Figure size 432x288 with 1 Axes>"
            ]
          },
          "metadata": {
            "needs_background": "light"
          }
        },
        {
          "output_type": "display_data",
          "data": {
            "image/png": "[encoded data removed]",
            "text/plain": [
              "<Figure size 432x288 with 1 Axes>"
            ]
          },
          "metadata": {
            "needs_background": "light"
          }
        },
        {
          "output_type": "display_data",
          "data": {
            "image/png": "[encoded data removed]",
            "text/plain": [
              "<Figure size 432x288 with 1 Axes>"
            ]
          },
          "metadata": {
            "needs_background": "light"
          }
        },
        {
          "output_type": "display_data",
          "data": {
            "image/png": "[encoded data removed]",
            "text/plain": [
              "<Figure size 432x288 with 1 Axes>"
            ]
          },
          "metadata": {
            "needs_background": "light"
          }
        }
      ]
    },
    {
      "cell_type": "markdown",
      "source": [
        "**4 Images of the Convolution**"
      ],
      "metadata": {
        "id": "4MxjDNCbSmsO"
      }
    },
    {
      "cell_type": "code",
      "source": [
        "channel = np.random.randint(32)\n",
        "print('First Layer:')\n",
        "print_image(test_images[channel][0], 'Original Image')\n",
        "image_conv(model4, batch=test_images.to(device), layer=0, channel=channel, after_activation=False)\n",
        "image_conv(model4, batch=test_images.to(device), layer=1, channel=channel, after_activation=True)\n",
        "\n",
        "print('----------------------------------------------------------------')\n",
        "\n",
        "channel = np.random.randint(32)\n",
        "print('Second Layer:')\n",
        "print_image(test_images[channel][0], 'Original Image')\n",
        "image_conv(model4, batch=test_images.to(device), layer=3, channel=channel, after_activation=False)\n",
        "image_conv(model4, batch=test_images.to(device), layer=4, channel=channel, after_activation=True)"
      ],
      "metadata": {
        "id": "8-9JQWisqQ38",
        "colab": {
          "base_uri": "https://localhost:8080/",
          "height": 1000
        },
        "outputId": "45bdbc0d-44d0-40f7-d0f5-1b50a639d69c"
      },
      "execution_count": 32,
      "outputs": [
        {
          "output_type": "stream",
          "name": "stdout",
          "text": [
            "First Layer:\n"
          ]
        },
        {
          "output_type": "display_data",
          "data": {
            "image/png": "[encoded data removed]",
            "text/plain": [
              "<Figure size 432x288 with 1 Axes>"
            ]
          },
          "metadata": {
            "needs_background": "light"
          }
        },
        {
          "output_type": "display_data",
          "data": {
            "image/png": "[encoded data removed]",
            "text/plain": [
              "<Figure size 432x288 with 1 Axes>"
            ]
          },
          "metadata": {
            "needs_background": "light"
          }
        },
        {
          "output_type": "display_data",
          "data": {
            "image/png": "[encoded data removed]",
            "text/plain": [
              "<Figure size 432x288 with 1 Axes>"
            ]
          },
          "metadata": {
            "needs_background": "light"
          }
        },
        {
          "output_type": "stream",
          "name": "stdout",
          "text": [
            "----------------------------------------------------------------\n",
            "Second Layer:\n"
          ]
        },
        {
          "output_type": "display_data",
          "data": {
            "image/png": "[encoded data removed]",
            "text/plain": [
              "<Figure size 432x288 with 1 Axes>"
            ]
          },
          "metadata": {
            "needs_background": "light"
          }
        },
        {
          "output_type": "display_data",
          "data": {
            "image/png": "[encoded data removed]",
            "text/plain": [
              "<Figure size 432x288 with 1 Axes>"
            ]
          },
          "metadata": {
            "needs_background": "light"
          }
        },
        {
          "output_type": "display_data",
          "data": {
            "image/png": "[encoded data removed]",
            "text/plain": [
              "<Figure size 432x288 with 1 Axes>"
            ]
          },
          "metadata": {
            "needs_background": "light"
          }
        }
      ]
    }
  ]
}